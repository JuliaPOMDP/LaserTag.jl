{
 "cells": [
  {
   "cell_type": "code",
   "execution_count": 1,
   "metadata": {
    "collapsed": false
   },
   "outputs": [
    {
     "data": {
      "text/html": [
       "<div id=\"interact-js-shim\">\n",
       "    <script charset=\"utf-8\">\n",
       "(function (IPython, $, _, MathJax) {\n",
       "    $.event.special.destroyed = {\n",
       "\tremove: function(o) {\n",
       "\t    if (o.handler) {\n",
       "\t\to.handler.apply(this, arguments)\n",
       "\t    }\n",
       "\t}\n",
       "    }\n",
       "\n",
       "    var OutputArea = IPython.version >= \"4.0.0\" ? require(\"notebook/js/outputarea\").OutputArea : IPython.OutputArea;\n",
       "\n",
       "    var redrawValue = function (container, type, val) {\n",
       "\tvar selector = $(\"<div/>\");\n",
       "\tvar oa = new OutputArea(_.extend(selector, {\n",
       "\t    selector: selector,\n",
       "\t    prompt_area: true,\n",
       "\t    events: IPython.events,\n",
       "\t    keyboard_manager: IPython.keyboard_manager\n",
       "\t})); // Hack to work with IPython 2.1.0\n",
       "\n",
       "\tswitch (type) {\n",
       "\tcase \"image/png\":\n",
       "            var _src = 'data:' + type + ';base64,' + val;\n",
       "\t    $(container).find(\"img\").attr('src', _src);\n",
       "\t    break;\n",
       "\tcase \"text/latex\":\n",
       "\t\tif (MathJax){\n",
       "\t\t\tvar math = MathJax.Hub.getAllJax(container)[0];\n",
       "\t\t\tMathJax.Hub.Queue([\"Text\", math, val.replace(/^\\${1,2}|\\${1,2}$/g, '')]);\n",
       "\t\t\tbreak;\n",
       "\t\t}\n",
       "\tdefault:\n",
       "\t    var toinsert = OutputArea.append_map[type].apply(\n",
       "\t\toa, [val, {}, selector]\n",
       "\t    );\n",
       "\t    $(container).empty().append(toinsert.contents());\n",
       "\t    selector.remove();\n",
       "\t}\n",
       "    }\n",
       "\n",
       "\n",
       "    $(document).ready(function() {\n",
       "\tfunction initComm(evt, data) {\n",
       "\t    var comm_manager = data.kernel.comm_manager;\n",
       "        //_.extend(comm_manager.targets, require(\"widgets/js/widget\"))\n",
       "\t    comm_manager.register_target(\"Signal\", function (comm) {\n",
       "            comm.on_msg(function (msg) {\n",
       "                var val = msg.content.data.value;\n",
       "                $(\".signal-\" + comm.comm_id).each(function() {\n",
       "                var type = $(this).data(\"type\");\n",
       "                if (typeof(val[type]) !== \"undefined\" && val[type] !== null) {\n",
       "                    redrawValue(this, type, val[type], type);\n",
       "                }\n",
       "                });\n",
       "                delete val;\n",
       "                delete msg.content.data.value;\n",
       "            });\n",
       "\t    });\n",
       "\n",
       "\t    // coordingate with Comm and redraw Signals\n",
       "\t    // XXX: Test using Reactive here to improve performance\n",
       "\t    $([IPython.events]).on(\n",
       "\t\t'output_appended.OutputArea', function (event, type, value, md, toinsert) {\n",
       "\t\t    if (md && md.reactive) {\n",
       "                // console.log(md.comm_id);\n",
       "                toinsert.addClass(\"signal-\" + md.comm_id);\n",
       "                toinsert.data(\"type\", type);\n",
       "                // Signal back indicating the mimetype required\n",
       "                var comm_manager = IPython.notebook.kernel.comm_manager;\n",
       "                var comm = comm_manager.comms[md.comm_id];\n",
       "                comm.then(function (c) {\n",
       "                    c.send({action: \"subscribe_mime\",\n",
       "                       mime: type});\n",
       "                    toinsert.bind(\"destroyed\", function() {\n",
       "                        c.send({action: \"unsubscribe_mime\",\n",
       "                               mime: type});\n",
       "                    });\n",
       "                })\n",
       "\t\t    }\n",
       "\t    });\n",
       "\t}\n",
       "\n",
       "\ttry {\n",
       "\t    // try to initialize right away. otherwise, wait on the status_started event.\n",
       "\t    initComm(undefined, IPython.notebook);\n",
       "\t} catch (e) {\n",
       "\t    $([IPython.events]).on('kernel_created.Kernel kernel_created.Session', initComm);\n",
       "\t}\n",
       "    });\n",
       "})(IPython, jQuery, _, MathJax);\n",
       "</script>\n",
       "    <script>\n",
       "        window.interactLoadedFlag = true\n",
       "       $(\"#interact-js-shim\").bind(\"destroyed\", function () {\n",
       "           if (window.interactLoadedFlag) {\n",
       "               console.warn(\"JavaScript required by Interact will be removed if you remove this cell or run using Interact more than once.\")\n",
       "           }\n",
       "       })\n",
       "       $([IPython.events]).on(\"kernel_starting.Kernel kernel_restarting.Kernel\", function () { window.interactLoadedFlag = false })\n",
       "   </script>\n",
       "</div>"
      ]
     },
     "metadata": {},
     "output_type": "display_data"
    }
   ],
   "source": [
    "using POMDPs\n",
    "using LaserTag\n",
    "using ParticleFilters\n",
    "using POMDPToolbox\n",
    "using Interact\n",
    "using POMCPOW"
   ]
  },
  {
   "cell_type": "code",
   "execution_count": 81,
   "metadata": {
    "collapsed": false
   },
   "outputs": [
    {
     "name": "stderr",
     "output_type": "stream",
     "text": [
      "Simulating...100%|██████████████████████████████████████| Time: 0:00:03\n"
     ]
    },
    {
     "data": {
      "text/plain": [
       "47"
      ]
     },
     "execution_count": 81,
     "metadata": {},
     "output_type": "execute_result"
    }
   ],
   "source": [
    "p = gen_lasertag(rng=MersenneTwister(1), reading_std=2.5)\n",
    "filter = SimpleParticleFilter(p, LowVarianceResampler(100000), rng=MersenneTwister(5))\n",
    "\n",
    "ro = MoveTowards()\n",
    "solver = POMCPOWSolver(tree_queries=100_000,\n",
    "                       criterion=MaxUCB(20.0),\n",
    "                       final_criterion=MaxTries(),\n",
    "                       max_depth=100,\n",
    "                       enable_action_pw=false,\n",
    "                       k_observation=8.0,\n",
    "                       alpha_observation=1/20,\n",
    "                       estimate_value=FORollout(ro),\n",
    "                       check_repeat_act=false,\n",
    "                       check_repeat_obs=false,\n",
    "                       rng=MersenneTwister(13)\n",
    "                      )\n",
    "policy = solve(solver, p)\n",
    "\n",
    "policy = MoveTowardsSampled(MersenneTwister(5))\n",
    "\n",
    "hr = HistoryRecorder(max_steps=100,\n",
    "                     show_progress=true,\n",
    "                     rng=MersenneTwister(6))\n",
    "hist = simulate(hr, p, policy, filter)\n",
    "ns = n_steps(hist)-1"
   ]
  },
  {
   "cell_type": "code",
   "execution_count": 82,
   "metadata": {
    "collapsed": false
   },
   "outputs": [
    {
     "data": {
      "text/plain": [
       "0"
      ]
     },
     "execution_count": 82,
     "metadata": {},
     "output_type": "execute_result"
    }
   ],
   "source": [
    "i=0"
   ]
  },
  {
   "cell_type": "code",
   "execution_count": 129,
   "metadata": {
    "collapsed": false,
    "scrolled": true
   },
   "outputs": [
    {
     "data": {
      "image/svg+xml": [
       "<?xml version=\"1.0\" encoding=\"UTF-8\"?>\n",
       "<svg xmlns=\"http://www.w3.org/2000/svg\" xmlns:xlink=\"http://www.w3.org/1999/xlink\" width=\"390.162pt\" height=\"248.43pt\" viewBox=\"0 0 390.162 248.43\" version=\"1.1\">\n",
       "<defs>\n",
       "<g>\n",
       "<symbol overflow=\"visible\" id=\"glyph-1492723784332212-0-0\">\n",
       "<path style=\"stroke:none;\" d=\"\"/>\n",
       "</symbol>\n",
       "<symbol overflow=\"visible\" id=\"glyph-1492723784332212-0-1\">\n",
       "<path style=\"stroke:none;\" d=\"M 1.71875 -3.984375 L 3.15625 -3.984375 L 3.15625 -4.296875 L 1.71875 -4.296875 L 1.71875 -6.125 L 1.46875 -6.125 C 1.46875 -5.3125 1.171875 -4.25 0.1875 -4.203125 L 0.1875 -3.984375 L 1.03125 -3.984375 L 1.03125 -1.234375 C 1.03125 -0.015625 1.96875 0.109375 2.328125 0.109375 C 3.03125 0.109375 3.3125 -0.59375 3.3125 -1.234375 L 3.3125 -1.796875 L 3.0625 -1.796875 L 3.0625 -1.25 C 3.0625 -0.515625 2.765625 -0.140625 2.390625 -0.140625 C 1.71875 -0.140625 1.71875 -1.046875 1.71875 -1.21875 Z M 1.71875 -3.984375 \"/>\n",
       "</symbol>\n",
       "<symbol overflow=\"visible\" id=\"glyph-1492723784332212-0-2\">\n",
       "<path style=\"stroke:none;\" d=\"M 3.3125 -0.75 C 3.359375 -0.359375 3.625 0.0625 4.09375 0.0625 C 4.3125 0.0625 4.921875 -0.078125 4.921875 -0.890625 L 4.921875 -1.453125 L 4.671875 -1.453125 L 4.671875 -0.890625 C 4.671875 -0.3125 4.421875 -0.25 4.3125 -0.25 C 3.984375 -0.25 3.9375 -0.703125 3.9375 -0.75 L 3.9375 -2.734375 C 3.9375 -3.15625 3.9375 -3.546875 3.578125 -3.921875 C 3.1875 -4.3125 2.6875 -4.46875 2.21875 -4.46875 C 1.390625 -4.46875 0.703125 -4 0.703125 -3.34375 C 0.703125 -3.046875 0.90625 -2.875 1.171875 -2.875 C 1.453125 -2.875 1.625 -3.078125 1.625 -3.328125 C 1.625 -3.453125 1.578125 -3.78125 1.109375 -3.78125 C 1.390625 -4.140625 1.875 -4.25 2.1875 -4.25 C 2.6875 -4.25 3.25 -3.859375 3.25 -2.96875 L 3.25 -2.609375 C 2.734375 -2.578125 2.046875 -2.546875 1.421875 -2.25 C 0.671875 -1.90625 0.421875 -1.390625 0.421875 -0.953125 C 0.421875 -0.140625 1.390625 0.109375 2.015625 0.109375 C 2.671875 0.109375 3.125 -0.296875 3.3125 -0.75 Z M 3.25 -2.390625 L 3.25 -1.390625 C 3.25 -0.453125 2.53125 -0.109375 2.078125 -0.109375 C 1.59375 -0.109375 1.1875 -0.453125 1.1875 -0.953125 C 1.1875 -1.5 1.609375 -2.328125 3.25 -2.390625 Z M 3.25 -2.390625 \"/>\n",
       "</symbol>\n",
       "<symbol overflow=\"visible\" id=\"glyph-1492723784332212-0-3\">\n",
       "<path style=\"stroke:none;\" d=\"M 2.21875 -1.71875 C 1.34375 -1.71875 1.34375 -2.71875 1.34375 -2.9375 C 1.34375 -3.203125 1.359375 -3.53125 1.5 -3.78125 C 1.578125 -3.890625 1.8125 -4.171875 2.21875 -4.171875 C 3.078125 -4.171875 3.078125 -3.1875 3.078125 -2.953125 C 3.078125 -2.6875 3.078125 -2.359375 2.921875 -2.109375 C 2.84375 -2 2.609375 -1.71875 2.21875 -1.71875 Z M 1.0625 -1.328125 C 1.0625 -1.359375 1.0625 -1.59375 1.21875 -1.796875 C 1.609375 -1.515625 2.03125 -1.484375 2.21875 -1.484375 C 3.140625 -1.484375 3.828125 -2.171875 3.828125 -2.9375 C 3.828125 -3.3125 3.671875 -3.671875 3.421875 -3.90625 C 3.78125 -4.25 4.140625 -4.296875 4.3125 -4.296875 C 4.34375 -4.296875 4.390625 -4.296875 4.421875 -4.28125 C 4.3125 -4.25 4.25 -4.140625 4.25 -4.015625 C 4.25 -3.84375 4.390625 -3.734375 4.546875 -3.734375 C 4.640625 -3.734375 4.828125 -3.796875 4.828125 -4.03125 C 4.828125 -4.203125 4.71875 -4.515625 4.328125 -4.515625 C 4.125 -4.515625 3.6875 -4.453125 3.265625 -4.046875 C 2.84375 -4.375 2.4375 -4.40625 2.21875 -4.40625 C 1.28125 -4.40625 0.59375 -3.71875 0.59375 -2.953125 C 0.59375 -2.515625 0.8125 -2.140625 1.0625 -1.921875 C 0.9375 -1.78125 0.75 -1.453125 0.75 -1.09375 C 0.75 -0.78125 0.890625 -0.40625 1.203125 -0.203125 C 0.59375 -0.046875 0.28125 0.390625 0.28125 0.78125 C 0.28125 1.5 1.265625 2.046875 2.484375 2.046875 C 3.65625 2.046875 4.6875 1.546875 4.6875 0.765625 C 4.6875 0.421875 4.5625 -0.09375 4.046875 -0.375 C 3.515625 -0.640625 2.9375 -0.640625 2.328125 -0.640625 C 2.078125 -0.640625 1.65625 -0.640625 1.578125 -0.65625 C 1.265625 -0.703125 1.0625 -1 1.0625 -1.328125 Z M 2.5 1.828125 C 1.484375 1.828125 0.796875 1.3125 0.796875 0.78125 C 0.796875 0.328125 1.171875 -0.046875 1.609375 -0.0625 L 2.203125 -0.0625 C 3.0625 -0.0625 4.171875 -0.0625 4.171875 0.78125 C 4.171875 1.328125 3.46875 1.828125 2.5 1.828125 Z M 2.5 1.828125 \"/>\n",
       "</symbol>\n",
       "</g>\n",
       "<clipPath id=\"clip-1492723784332212-1\">\n",
       "  <path d=\"M 71 212 L 107 212 L 107 248.429688 L 71 248.429688 Z M 71 212 \"/>\n",
       "</clipPath>\n",
       "<clipPath id=\"clip-1492723784332212-2\">\n",
       "  <path d=\"M 319 212 L 355 212 L 355 248.429688 L 319 248.429688 Z M 319 212 \"/>\n",
       "</clipPath>\n",
       "<clipPath id=\"clip-1492723784332212-3\">\n",
       "  <path d=\"M 0 0 L 390.160156 0 L 390.160156 248.429688 L 0 248.429688 Z M 0 0 \"/>\n",
       "</clipPath>\n",
       "</defs>\n",
       "<g id=\"surface1\">\n",
       "<path style=\" stroke:none;fill-rule:nonzero;fill:rgb(50%,50%,50%);fill-opacity:0.5;\" d=\"M 35.632812 71.0625 L 35.632812 35.628906 L 71.066406 35.628906 L 71.066406 71.0625 Z M 35.632812 71.0625 \"/>\n",
       "<path style=\" stroke:none;fill-rule:nonzero;fill:rgb(50%,50%,50%);fill-opacity:0.5;\" d=\"M 248.234375 71.0625 L 248.234375 35.628906 L 283.667969 35.628906 L 283.667969 71.0625 Z M 248.234375 71.0625 \"/>\n",
       "<g clip-path=\"url(#clip-1492723784332212-1)\" clip-rule=\"nonzero\">\n",
       "<path style=\" stroke:none;fill-rule:nonzero;fill:rgb(50%,50%,50%);fill-opacity:0.5;\" d=\"M 71.066406 248.230469 L 71.066406 212.796875 L 106.5 212.796875 L 106.5 248.230469 Z M 71.066406 248.230469 \"/>\n",
       "</g>\n",
       "<g clip-path=\"url(#clip-1492723784332212-2)\" clip-rule=\"nonzero\">\n",
       "<path style=\" stroke:none;fill-rule:nonzero;fill:rgb(50%,50%,50%);fill-opacity:0.5;\" d=\"M 319.101562 248.230469 L 319.101562 212.796875 L 354.535156 212.796875 L 354.535156 248.230469 Z M 319.101562 248.230469 \"/>\n",
       "</g>\n",
       "<path style=\" stroke:none;fill-rule:nonzero;fill:rgb(50%,50%,50%);fill-opacity:0.5;\" d=\"M 177.367188 106.496094 L 177.367188 71.0625 L 212.800781 71.0625 L 212.800781 106.496094 Z M 177.367188 106.496094 \"/>\n",
       "<path style=\" stroke:none;fill-rule:nonzero;fill:rgb(50%,50%,50%);fill-opacity:0.5;\" d=\"M 71.066406 141.929688 L 71.066406 106.496094 L 106.5 106.496094 L 106.5 141.929688 Z M 71.066406 141.929688 \"/>\n",
       "<path style=\" stroke:none;fill-rule:nonzero;fill:rgb(50%,50%,50%);fill-opacity:0.5;\" d=\"M 319.101562 212.796875 L 319.101562 177.363281 L 354.535156 177.363281 L 354.535156 212.796875 Z M 319.101562 212.796875 \"/>\n",
       "<path style=\" stroke:none;fill-rule:nonzero;fill:rgb(50%,50%,50%);fill-opacity:0.5;\" d=\"M 141.933594 177.363281 L 141.933594 141.929688 L 177.367188 141.929688 L 177.367188 177.363281 Z M 141.933594 177.363281 \"/>\n",
       "<path style=\" stroke:none;fill-rule:nonzero;fill:rgb(100%,94.898987%,0%);fill-opacity:1;\" d=\"M 71.066406 71.0625 L 71.066406 35.628906 L 106.5 35.628906 L 106.5 71.0625 Z M 71.066406 71.0625 \"/>\n",
       "<path style=\" stroke:none;fill-rule:nonzero;fill:rgb(100%,50%,0%);fill-opacity:0.5;\" d=\"M 71.066406 71.0625 L 71.066406 35.628906 L 106.5 35.628906 L 106.5 71.0625 Z M 71.066406 71.0625 \"/>\n",
       "<path style=\" stroke:none;fill-rule:nonzero;fill:rgb(0%,100%,0%);fill-opacity:0.5;\" d=\"M 71.066406 71.0625 L 71.066406 35.628906 L 106.5 35.628906 L 106.5 71.0625 Z M 71.066406 71.0625 \"/>\n",
       "<path style=\"fill:none;stroke-width:0.3985;stroke-linecap:butt;stroke-linejoin:miter;stroke:rgb(100%,0%,0%);stroke-opacity:1;stroke-dasharray:2.98883,2.98883;stroke-miterlimit:10;\" d=\"M 88.58225 212.602094 L 88.58225 177.1685 \" transform=\"matrix(1,0,0,-1,0.199,248.231)\"/>\n",
       "<path style=\"fill:none;stroke-width:0.3985;stroke-linecap:butt;stroke-linejoin:miter;stroke:rgb(100%,0%,0%);stroke-opacity:1;stroke-dasharray:2.98883,2.98883;stroke-miterlimit:10;\" d=\"M 88.58225 177.1685 L 88.58225 212.602094 \" transform=\"matrix(1,0,0,-1,0.199,248.231)\"/>\n",
       "<path style=\"fill:none;stroke-width:0.3985;stroke-linecap:butt;stroke-linejoin:miter;stroke:rgb(100%,0%,0%);stroke-opacity:1;stroke-dasharray:2.98883,2.98883;stroke-miterlimit:10;\" d=\"M 106.301 194.883344 L 70.867406 194.883344 \" transform=\"matrix(1,0,0,-1,0.199,248.231)\"/>\n",
       "<path style=\"fill:none;stroke-width:0.3985;stroke-linecap:butt;stroke-linejoin:miter;stroke:rgb(100%,0%,0%);stroke-opacity:1;stroke-dasharray:2.98883,2.98883;stroke-miterlimit:10;\" d=\"M 70.867406 194.883344 L 106.301 194.883344 \" transform=\"matrix(1,0,0,-1,0.199,248.231)\"/>\n",
       "<path style=\"fill:none;stroke-width:0.3985;stroke-linecap:butt;stroke-linejoin:miter;stroke:rgb(100%,0%,0%);stroke-opacity:1;stroke-dasharray:2.98883,2.98883;stroke-miterlimit:10;\" d=\"M 106.301 212.602094 L 81.246313 187.547406 \" transform=\"matrix(1,0,0,-1,0.199,248.231)\"/>\n",
       "<path style=\"fill:none;stroke-width:0.3985;stroke-linecap:butt;stroke-linejoin:miter;stroke:rgb(100%,0%,0%);stroke-opacity:1;stroke-dasharray:2.98883,2.98883;stroke-miterlimit:10;\" d=\"M 106.301 177.1685 L 81.246313 202.223187 \" transform=\"matrix(1,0,0,-1,0.199,248.231)\"/>\n",
       "<path style=\"fill:none;stroke-width:0.3985;stroke-linecap:butt;stroke-linejoin:miter;stroke:rgb(100%,0%,0%);stroke-opacity:1;stroke-dasharray:2.98883,2.98883;stroke-miterlimit:10;\" d=\"M 70.867406 177.1685 L 95.922094 202.223187 \" transform=\"matrix(1,0,0,-1,0.199,248.231)\"/>\n",
       "<path style=\"fill:none;stroke-width:0.3985;stroke-linecap:butt;stroke-linejoin:miter;stroke:rgb(100%,0%,0%);stroke-opacity:1;stroke-dasharray:2.98883,2.98883;stroke-miterlimit:10;\" d=\"M 70.867406 212.602094 L 95.922094 187.547406 \" transform=\"matrix(1,0,0,-1,0.199,248.231)\"/>\n",
       "<g style=\"fill:rgb(0%,0%,0%);fill-opacity:1;\">\n",
       "  <use xlink:href=\"#glyph-1492723784332212-0-1\" x=\"74.585\" y=\"65.609\"/>\n",
       "  <use xlink:href=\"#glyph-1492723784332212-0-2\" x=\"78.459471\" y=\"65.609\"/>\n",
       "  <use xlink:href=\"#glyph-1492723784332212-0-3\" x=\"83.440791\" y=\"65.609\"/>\n",
       "</g>\n",
       "<g clip-path=\"url(#clip-1492723784332212-3)\" clip-rule=\"nonzero\">\n",
       "<path style=\"fill:none;stroke-width:0.3985;stroke-linecap:butt;stroke-linejoin:miter;stroke:rgb(0%,0%,0%);stroke-opacity:1;stroke-miterlimit:10;\" d=\"M 0.00021875 0.00053125 L 389.76975 0.00053125 M 0.00021875 35.434125 L 389.76975 35.434125 M 0.00021875 70.867719 L 389.76975 70.867719 M 0.00021875 106.301312 L 389.76975 106.301312 M 0.00021875 141.734906 L 389.76975 141.734906 M 0.00021875 177.1685 L 389.76975 177.1685 M 0.00021875 212.602094 L 389.76975 212.602094 M 0.00021875 248.023969 L 389.76975 248.023969 M 0.00021875 0.00053125 L 0.00021875 248.035687 M 35.433813 0.00053125 L 35.433813 248.035687 M 70.867406 0.00053125 L 70.867406 248.035687 M 106.301 0.00053125 L 106.301 248.035687 M 141.734594 0.00053125 L 141.734594 248.035687 M 177.168187 0.00053125 L 177.168187 248.035687 M 212.601781 0.00053125 L 212.601781 248.035687 M 248.035375 0.00053125 L 248.035375 248.035687 M 283.468969 0.00053125 L 283.468969 248.035687 M 318.902562 0.00053125 L 318.902562 248.035687 M 354.336156 0.00053125 L 354.336156 248.035687 M 389.758031 0.00053125 L 389.758031 248.035687 \" transform=\"matrix(1,0,0,-1,0.199,248.231)\"/>\n",
       "</g>\n",
       "</g>\n",
       "</svg>\n",
       "\n"
      ],
      "text/plain": [
       "LaserTag.LaserTagVis(LaserTag.LaserTagPOMDP\n",
       "  tag_reward: Float64 10.0\n",
       "  step_cost: Float64 1.0\n",
       "  discount: Float64 0.95\n",
       "  floor: LaserTag.Floor\n",
       "  reading_std: Float64 2.5\n",
       "  obstacles: Set{StaticArrays.SVector{2,Int64}}\n",
       "  robot_init: StaticArrays.SVector{2,Int64}\n",
       "  dcache: LaserTag.LTDistanceCache\n",
       ",Nullable{Any}(LaserTag.LTState([3,6],[3,6],false)),Nullable{Any}(9),Nullable{Any}([-1.0,-1.0,-1.0,-1.0,-1.0,-1.0,-1.0,-1.0]),Nullable{Any}(ParticleFilters.ParticleCollection{LaserTag.LTState}(LaserTag.LTState[LaserTag.LTState([3,6],[3,6],false),LaserTag.LTState([3,6],[3,6],false),LaserTag.LTState([3,6],[3,6],false),LaserTag.LTState([3,6],[3,6],false),LaserTag.LTState([3,6],[3,6],false),LaserTag.LTState([3,6],[3,6],false),LaserTag.LTState([3,6],[3,6],false),LaserTag.LTState([3,6],[3,6],false),LaserTag.LTState([3,6],[3,6],false),LaserTag.LTState([3,6],[3,6],false)  …  LaserTag.LTState([3,6],[3,6],false),LaserTag.LTState([3,6],[3,6],false),LaserTag.LTState([3,6],[3,6],false),LaserTag.LTState([3,6],[3,6],false),LaserTag.LTState([3,6],[3,6],false),LaserTag.LTState([3,6],[3,6],false),LaserTag.LTState([3,6],[3,6],false),LaserTag.LTState([3,6],[3,6],false),LaserTag.LTState([3,6],[3,6],false),LaserTag.LTState([3,6],[3,6],false)],#NULL)),Nullable{Any}())"
      ]
     },
     "execution_count": 129,
     "metadata": {},
     "output_type": "execute_result"
    }
   ],
   "source": [
    "i+=1\n",
    "s = state_hist(hist)[i+1]\n",
    "o = observation_hist(hist)[i]\n",
    "a = action_hist(hist)[i+1]\n",
    "b = belief_hist(hist)[i+1]\n",
    "r = reward_hist(hist)[i+1]\n",
    "LaserTagVis(p, s=s, a=a, o=o, b=b)"
   ]
  },
  {
   "cell_type": "code",
   "execution_count": 130,
   "metadata": {
    "collapsed": false
   },
   "outputs": [
    {
     "data": {
      "text/plain": [
       "-17.307655042074458"
      ]
     },
     "execution_count": 130,
     "metadata": {},
     "output_type": "execute_result"
    }
   ],
   "source": []
  },
  {
   "cell_type": "code",
   "execution_count": null,
   "metadata": {
    "collapsed": true
   },
   "outputs": [],
   "source": []
  }
 ],
 "metadata": {
  "anaconda-cloud": {},
  "kernelspec": {
   "display_name": "Julia 0.5.1",
   "language": "julia",
   "name": "julia-0.5"
  },
  "language_info": {
   "file_extension": ".jl",
   "mimetype": "application/julia",
   "name": "julia",
   "version": "0.5.1"
  }
 },
 "nbformat": 4,
 "nbformat_minor": 1
}

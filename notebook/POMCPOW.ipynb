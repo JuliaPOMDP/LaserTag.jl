{
 "cells": [
  {
   "cell_type": "code",
   "execution_count": 1,
   "metadata": {
    "collapsed": false
   },
   "outputs": [
    {
     "data": {
      "text/html": [
       "<div id=\"interact-js-shim\">\n",
       "    <script charset=\"utf-8\">\n",
       "(function (IPython, $, _, MathJax) {\n",
       "    $.event.special.destroyed = {\n",
       "\tremove: function(o) {\n",
       "\t    if (o.handler) {\n",
       "\t\to.handler.apply(this, arguments)\n",
       "\t    }\n",
       "\t}\n",
       "    }\n",
       "\n",
       "    var OutputArea = IPython.version >= \"4.0.0\" ? require(\"notebook/js/outputarea\").OutputArea : IPython.OutputArea;\n",
       "\n",
       "    var redrawValue = function (container, type, val) {\n",
       "\tvar selector = $(\"<div/>\");\n",
       "\tvar oa = new OutputArea(_.extend(selector, {\n",
       "\t    selector: selector,\n",
       "\t    prompt_area: true,\n",
       "\t    events: IPython.events,\n",
       "\t    keyboard_manager: IPython.keyboard_manager\n",
       "\t})); // Hack to work with IPython 2.1.0\n",
       "\n",
       "\tswitch (type) {\n",
       "\tcase \"image/png\":\n",
       "            var _src = 'data:' + type + ';base64,' + val;\n",
       "\t    $(container).find(\"img\").attr('src', _src);\n",
       "\t    break;\n",
       "\tcase \"text/latex\":\n",
       "\t\tif (MathJax){\n",
       "\t\t\tvar math = MathJax.Hub.getAllJax(container)[0];\n",
       "\t\t\tMathJax.Hub.Queue([\"Text\", math, val.replace(/^\\${1,2}|\\${1,2}$/g, '')]);\n",
       "\t\t\tbreak;\n",
       "\t\t}\n",
       "\tdefault:\n",
       "\t    var toinsert = OutputArea.append_map[type].apply(\n",
       "\t\toa, [val, {}, selector]\n",
       "\t    );\n",
       "\t    $(container).empty().append(toinsert.contents());\n",
       "\t    selector.remove();\n",
       "\t}\n",
       "    }\n",
       "\n",
       "\n",
       "    $(document).ready(function() {\n",
       "\tfunction initComm(evt, data) {\n",
       "\t    var comm_manager = data.kernel.comm_manager;\n",
       "        //_.extend(comm_manager.targets, require(\"widgets/js/widget\"))\n",
       "\t    comm_manager.register_target(\"Signal\", function (comm) {\n",
       "            comm.on_msg(function (msg) {\n",
       "                var val = msg.content.data.value;\n",
       "                $(\".signal-\" + comm.comm_id).each(function() {\n",
       "                var type = $(this).data(\"type\");\n",
       "                if (typeof(val[type]) !== \"undefined\" && val[type] !== null) {\n",
       "                    redrawValue(this, type, val[type], type);\n",
       "                }\n",
       "                });\n",
       "                delete val;\n",
       "                delete msg.content.data.value;\n",
       "            });\n",
       "\t    });\n",
       "\n",
       "\t    // coordingate with Comm and redraw Signals\n",
       "\t    // XXX: Test using Reactive here to improve performance\n",
       "\t    $([IPython.events]).on(\n",
       "\t\t'output_appended.OutputArea', function (event, type, value, md, toinsert) {\n",
       "\t\t    if (md && md.reactive) {\n",
       "                // console.log(md.comm_id);\n",
       "                toinsert.addClass(\"signal-\" + md.comm_id);\n",
       "                toinsert.data(\"type\", type);\n",
       "                // Signal back indicating the mimetype required\n",
       "                var comm_manager = IPython.notebook.kernel.comm_manager;\n",
       "                var comm = comm_manager.comms[md.comm_id];\n",
       "                comm.then(function (c) {\n",
       "                    c.send({action: \"subscribe_mime\",\n",
       "                       mime: type});\n",
       "                    toinsert.bind(\"destroyed\", function() {\n",
       "                        c.send({action: \"unsubscribe_mime\",\n",
       "                               mime: type});\n",
       "                    });\n",
       "                })\n",
       "\t\t    }\n",
       "\t    });\n",
       "\t}\n",
       "\n",
       "\ttry {\n",
       "\t    // try to initialize right away. otherwise, wait on the status_started event.\n",
       "\t    initComm(undefined, IPython.notebook);\n",
       "\t} catch (e) {\n",
       "\t    $([IPython.events]).on('kernel_created.Kernel kernel_created.Session', initComm);\n",
       "\t}\n",
       "    });\n",
       "})(IPython, jQuery, _, MathJax);\n",
       "</script>\n",
       "    <script>\n",
       "        window.interactLoadedFlag = true\n",
       "       $(\"#interact-js-shim\").bind(\"destroyed\", function () {\n",
       "           if (window.interactLoadedFlag) {\n",
       "               console.warn(\"JavaScript required by Interact will be removed if you remove this cell or run using Interact more than once.\")\n",
       "           }\n",
       "       })\n",
       "       $([IPython.events]).on(\"kernel_starting.Kernel kernel_restarting.Kernel\", function () { window.interactLoadedFlag = false })\n",
       "   </script>\n",
       "</div>"
      ]
     },
     "metadata": {},
     "output_type": "display_data"
    }
   ],
   "source": [
    "using POMDPs\n",
    "using LaserTag\n",
    "using ParticleFilters\n",
    "using POMDPToolbox\n",
    "using Interact\n",
    "using POMCPOW\n",
    "using DiscreteValueIteration"
   ]
  },
  {
   "cell_type": "code",
   "execution_count": 2,
   "metadata": {
    "collapsed": false
   },
   "outputs": [
    {
     "name": "stderr",
     "output_type": "stream",
     "text": [
      "Simulating...100%|██████████████████████████████████████| Time: 0:00:30\n"
     ]
    }
   ],
   "source": [
    "p = gen_lasertag(rng=MersenneTwister(7), reading_std=2.5)\n",
    "filter = SimpleParticleFilter(p, LowVarianceResampler(100000), rng=MersenneTwister(5))\n",
    "\n",
    "solver = POMCPOWSolver(tree_queries=100_000,\n",
    "                       criterion=MaxUCB(20.0),\n",
    "                       final_criterion=MaxTries(),\n",
    "                       max_depth=100,\n",
    "                       enable_action_pw=true,\n",
    "                       k_action=4.0,\n",
    "                       alpha_action=1/10,\n",
    "                       k_observation=4.0,\n",
    "                       alpha_observation=1/20,\n",
    "                       estimate_value=FOValue(ValueIterationSolver()),\n",
    "                       init_N=InevitableInit(),\n",
    "                       init_V=InevitableInit(),\n",
    "                       check_repeat_act=false,\n",
    "                       check_repeat_obs=false,\n",
    "                       rng=MersenneTwister(13)\n",
    "                      )\n",
    "policy = solve(solver, p)\n",
    "\n",
    "# policy = MoveTowardsSampled(MersenneTwister(5))\n",
    "\n",
    "hr = HistoryRecorder(max_steps=100,\n",
    "                     show_progress=true,\n",
    "                     rng=MersenneTwister(6))\n",
    "hist = simulate(hr, p, policy, filter)\n",
    "ns = n_steps(hist)-1"
   ]
  },
  {
   "cell_type": "code",
   "execution_count": 5,
   "metadata": {
    "collapsed": false
   },
   "outputs": [
    {
     "data": {
      "text/plain": [
       "0"
      ]
     },
     "execution_count": 5,
     "metadata": {},
     "output_type": "execute_result"
    }
   ],
   "source": [
    "i=0"
   ]
  },
  {
   "cell_type": "code",
   "execution_count": 6,
   "metadata": {
    "collapsed": false
   },
   "outputs": [
    {
     "data": {
      "image/svg+xml": [
       "<?xml version=\"1.0\" encoding=\"UTF-8\"?>\n",
       "<svg xmlns=\"http://www.w3.org/2000/svg\" xmlns:xlink=\"http://www.w3.org/1999/xlink\" width=\"434.436pt\" height=\"284.524pt\" viewBox=\"0 0 434.436 284.524\" version=\"1.1\">\n",
       "<defs>\n",
       "<g>\n",
       "<symbol overflow=\"visible\" id=\"glyph-1495312568602738-0-0\">\n",
       "<path style=\"stroke:none;\" d=\"\"/>\n",
       "</symbol>\n",
       "<symbol overflow=\"visible\" id=\"glyph-1495312568602738-0-1\">\n",
       "<path style=\"stroke:none;\" d=\"M 6.171875 -3.34375 C 6.34375 -3.84375 6.65625 -3.984375 7.015625 -3.984375 L 7.015625 -4.296875 C 6.78125 -4.28125 6.5 -4.265625 6.28125 -4.265625 C 5.984375 -4.265625 5.546875 -4.28125 5.359375 -4.296875 L 5.359375 -3.984375 C 5.71875 -3.984375 5.9375 -3.796875 5.9375 -3.515625 C 5.9375 -3.453125 5.9375 -3.421875 5.875 -3.296875 L 4.96875 -0.75 L 3.984375 -3.53125 C 3.953125 -3.65625 3.9375 -3.671875 3.9375 -3.71875 C 3.9375 -3.984375 4.328125 -3.984375 4.53125 -3.984375 L 4.53125 -4.296875 C 4.234375 -4.28125 3.734375 -4.265625 3.484375 -4.265625 C 3.1875 -4.265625 2.90625 -4.28125 2.609375 -4.296875 L 2.609375 -3.984375 C 2.96875 -3.984375 3.125 -3.96875 3.234375 -3.84375 C 3.28125 -3.78125 3.390625 -3.484375 3.453125 -3.296875 L 2.609375 -0.875 L 1.65625 -3.53125 C 1.609375 -3.65625 1.609375 -3.671875 1.609375 -3.71875 C 1.609375 -3.984375 2 -3.984375 2.1875 -3.984375 L 2.1875 -4.296875 C 1.890625 -4.28125 1.328125 -4.265625 1.109375 -4.265625 C 1.0625 -4.265625 0.53125 -4.28125 0.171875 -4.296875 L 0.171875 -3.984375 C 0.671875 -3.984375 0.796875 -3.953125 0.921875 -3.640625 L 2.171875 -0.109375 C 2.21875 0.03125 2.25 0.109375 2.375 0.109375 C 2.515625 0.109375 2.53125 0.046875 2.578125 -0.09375 L 3.59375 -2.90625 L 4.609375 -0.078125 C 4.640625 0.03125 4.671875 0.109375 4.8125 0.109375 C 4.9375 0.109375 4.96875 0.015625 5 -0.078125 Z M 6.171875 -3.34375 \"/>\n",
       "</symbol>\n",
       "<symbol overflow=\"visible\" id=\"glyph-1495312568602738-0-2\">\n",
       "<path style=\"stroke:none;\" d=\"M 1.109375 -2.515625 C 1.171875 -4 2.015625 -4.25 2.359375 -4.25 C 3.375 -4.25 3.484375 -2.90625 3.484375 -2.515625 Z M 1.109375 -2.296875 L 3.890625 -2.296875 C 4.109375 -2.296875 4.140625 -2.296875 4.140625 -2.515625 C 4.140625 -3.5 3.59375 -4.46875 2.359375 -4.46875 C 1.203125 -4.46875 0.28125 -3.4375 0.28125 -2.1875 C 0.28125 -0.859375 1.328125 0.109375 2.46875 0.109375 C 3.6875 0.109375 4.140625 -1 4.140625 -1.1875 C 4.140625 -1.28125 4.0625 -1.3125 4 -1.3125 C 3.921875 -1.3125 3.890625 -1.25 3.875 -1.171875 C 3.53125 -0.140625 2.625 -0.140625 2.53125 -0.140625 C 2.03125 -0.140625 1.640625 -0.4375 1.40625 -0.8125 C 1.109375 -1.28125 1.109375 -1.9375 1.109375 -2.296875 Z M 1.109375 -2.296875 \"/>\n",
       "</symbol>\n",
       "<symbol overflow=\"visible\" id=\"glyph-1495312568602738-0-3\">\n",
       "<path style=\"stroke:none;\" d=\"M 2.078125 -1.9375 C 2.296875 -1.890625 3.109375 -1.734375 3.109375 -1.015625 C 3.109375 -0.515625 2.765625 -0.109375 1.984375 -0.109375 C 1.140625 -0.109375 0.78125 -0.671875 0.59375 -1.53125 C 0.5625 -1.65625 0.5625 -1.6875 0.453125 -1.6875 C 0.328125 -1.6875 0.328125 -1.625 0.328125 -1.453125 L 0.328125 -0.125 C 0.328125 0.046875 0.328125 0.109375 0.4375 0.109375 C 0.484375 0.109375 0.5 0.09375 0.6875 -0.09375 C 0.703125 -0.109375 0.703125 -0.125 0.890625 -0.3125 C 1.328125 0.09375 1.78125 0.109375 1.984375 0.109375 C 3.125 0.109375 3.59375 -0.5625 3.59375 -1.28125 C 3.59375 -1.796875 3.296875 -2.109375 3.171875 -2.21875 C 2.84375 -2.546875 2.453125 -2.625 2.03125 -2.703125 C 1.46875 -2.8125 0.8125 -2.9375 0.8125 -3.515625 C 0.8125 -3.875 1.0625 -4.28125 1.921875 -4.28125 C 3.015625 -4.28125 3.078125 -3.375 3.09375 -3.078125 C 3.09375 -2.984375 3.1875 -2.984375 3.203125 -2.984375 C 3.34375 -2.984375 3.34375 -3.03125 3.34375 -3.21875 L 3.34375 -4.234375 C 3.34375 -4.390625 3.34375 -4.46875 3.234375 -4.46875 C 3.1875 -4.46875 3.15625 -4.46875 3.03125 -4.34375 C 3 -4.3125 2.90625 -4.21875 2.859375 -4.1875 C 2.484375 -4.46875 2.078125 -4.46875 1.921875 -4.46875 C 0.703125 -4.46875 0.328125 -3.796875 0.328125 -3.234375 C 0.328125 -2.890625 0.484375 -2.609375 0.75 -2.390625 C 1.078125 -2.140625 1.359375 -2.078125 2.078125 -1.9375 Z M 2.078125 -1.9375 \"/>\n",
       "</symbol>\n",
       "<symbol overflow=\"visible\" id=\"glyph-1495312568602738-0-4\">\n",
       "<path style=\"stroke:none;\" d=\"M 1.71875 -3.984375 L 3.15625 -3.984375 L 3.15625 -4.296875 L 1.71875 -4.296875 L 1.71875 -6.125 L 1.46875 -6.125 C 1.46875 -5.3125 1.171875 -4.25 0.1875 -4.203125 L 0.1875 -3.984375 L 1.03125 -3.984375 L 1.03125 -1.234375 C 1.03125 -0.015625 1.96875 0.109375 2.328125 0.109375 C 3.03125 0.109375 3.3125 -0.59375 3.3125 -1.234375 L 3.3125 -1.796875 L 3.0625 -1.796875 L 3.0625 -1.25 C 3.0625 -0.515625 2.765625 -0.140625 2.390625 -0.140625 C 1.71875 -0.140625 1.71875 -1.046875 1.71875 -1.21875 Z M 1.71875 -3.984375 \"/>\n",
       "</symbol>\n",
       "</g>\n",
       "<clipPath id=\"clip-1495312568602738-1\">\n",
       "  <path d=\"M 354 127 L 434.4375 127 L 434.4375 129 L 354 129 Z M 354 127 \"/>\n",
       "</clipPath>\n",
       "<clipPath id=\"clip-1495312568602738-2\">\n",
       "  <path d=\"M 174 140 L 325 140 L 325 284.523438 L 174 284.523438 Z M 174 140 \"/>\n",
       "</clipPath>\n",
       "</defs>\n",
       "<g id=\"surface1\">\n",
       "<path style=\" stroke:none;fill-rule:nonzero;fill:rgb(50%,50%,50%);fill-opacity:0.5;\" d=\"M 354.535156 181.226562 L 354.535156 145.792969 L 389.96875 145.792969 L 389.96875 181.226562 Z M 354.535156 181.226562 \"/>\n",
       "<path style=\" stroke:none;fill-rule:nonzero;fill:rgb(50%,50%,50%);fill-opacity:0.5;\" d=\"M 283.667969 216.660156 L 283.667969 181.226562 L 319.101562 181.226562 L 319.101562 216.660156 Z M 283.667969 216.660156 \"/>\n",
       "<path style=\" stroke:none;fill-rule:nonzero;fill:rgb(50%,50%,50%);fill-opacity:0.5;\" d=\"M 177.367188 181.226562 L 177.367188 145.792969 L 212.800781 145.792969 L 212.800781 181.226562 Z M 177.367188 181.226562 \"/>\n",
       "<path style=\" stroke:none;fill-rule:nonzero;fill:rgb(50%,50%,50%);fill-opacity:0.5;\" d=\"M 283.667969 252.09375 L 283.667969 216.660156 L 319.101562 216.660156 L 319.101562 252.09375 Z M 283.667969 252.09375 \"/>\n",
       "<path style=\" stroke:none;fill-rule:nonzero;fill:rgb(50%,50%,50%);fill-opacity:0.5;\" d=\"M 0.199219 74.925781 L 0.199219 39.492188 L 35.632812 39.492188 L 35.632812 74.925781 Z M 0.199219 74.925781 \"/>\n",
       "<path style=\" stroke:none;fill-rule:nonzero;fill:rgb(50%,50%,50%);fill-opacity:0.5;\" d=\"M 283.667969 39.492188 L 283.667969 4.058594 L 319.101562 4.058594 L 319.101562 39.492188 Z M 283.667969 39.492188 \"/>\n",
       "<path style=\" stroke:none;fill-rule:nonzero;fill:rgb(50%,50%,50%);fill-opacity:0.5;\" d=\"M 354.535156 252.09375 L 354.535156 216.660156 L 389.96875 216.660156 L 389.96875 252.09375 Z M 354.535156 252.09375 \"/>\n",
       "<path style=\" stroke:none;fill-rule:nonzero;fill:rgb(50%,50%,50%);fill-opacity:0.5;\" d=\"M 71.066406 145.792969 L 71.066406 110.359375 L 106.5 110.359375 L 106.5 145.792969 Z M 71.066406 145.792969 \"/>\n",
       "<path style=\" stroke:none;fill-rule:nonzero;fill:rgb(100%,94.898987%,0%);fill-opacity:0.0989949;\" d=\"M 106.5 145.792969 L 106.5 110.359375 L 141.933594 110.359375 L 141.933594 145.792969 Z M 106.5 145.792969 \"/>\n",
       "<path style=\" stroke:none;fill-rule:nonzero;fill:rgb(100%,94.898987%,0%);fill-opacity:0.12112;\" d=\"M 319.101562 39.492188 L 319.101562 4.058594 L 354.535156 4.058594 L 354.535156 39.492188 Z M 319.101562 39.492188 \"/>\n",
       "<path style=\" stroke:none;fill-rule:nonzero;fill:rgb(100%,94.898987%,0%);fill-opacity:0.114804;\" d=\"M 354.535156 110.359375 L 354.535156 74.925781 L 389.96875 74.925781 L 389.96875 110.359375 Z M 354.535156 110.359375 \"/>\n",
       "<path style=\" stroke:none;fill-rule:nonzero;fill:rgb(100%,94.898987%,0%);fill-opacity:0.103923;\" d=\"M 71.066406 216.660156 L 71.066406 181.226562 L 106.5 181.226562 L 106.5 216.660156 Z M 71.066406 216.660156 \"/>\n",
       "<path style=\" stroke:none;fill-rule:nonzero;fill:rgb(100%,94.898987%,0%);fill-opacity:0.128996;\" d=\"M 354.535156 252.09375 L 354.535156 216.660156 L 389.96875 216.660156 L 389.96875 252.09375 Z M 354.535156 252.09375 \"/>\n",
       "<path style=\" stroke:none;fill-rule:nonzero;fill:rgb(100%,94.898987%,0%);fill-opacity:0.138852;\" d=\"M 177.367188 252.09375 L 177.367188 216.660156 L 212.800781 216.660156 L 212.800781 252.09375 Z M 177.367188 252.09375 \"/>\n",
       "<path style=\" stroke:none;fill-rule:nonzero;fill:rgb(100%,94.898987%,0%);fill-opacity:0.105736;\" d=\"M 35.632812 145.792969 L 35.632812 110.359375 L 71.066406 110.359375 L 71.066406 145.792969 Z M 35.632812 145.792969 \"/>\n",
       "<path style=\" stroke:none;fill-rule:nonzero;fill:rgb(100%,94.898987%,0%);fill-opacity:0.117431;\" d=\"M 212.800781 110.359375 L 212.800781 74.925781 L 248.234375 74.925781 L 248.234375 110.359375 Z M 212.800781 110.359375 \"/>\n",
       "<path style=\" stroke:none;fill-rule:nonzero;fill:rgb(100%,94.898987%,0%);fill-opacity:0.154532;\" d=\"M 0.199219 39.492188 L 0.199219 4.058594 L 35.632812 4.058594 L 35.632812 39.492188 Z M 0.199219 39.492188 \"/>\n",
       "<path style=\" stroke:none;fill-rule:nonzero;fill:rgb(100%,94.898987%,0%);fill-opacity:0.107191;\" d=\"M 283.667969 216.660156 L 283.667969 181.226562 L 319.101562 181.226562 L 319.101562 216.660156 Z M 283.667969 216.660156 \"/>\n",
       "<path style=\" stroke:none;fill-rule:nonzero;fill:rgb(100%,94.898987%,0%);fill-opacity:0.0902219;\" d=\"M 248.234375 181.226562 L 248.234375 145.792969 L 283.667969 145.792969 L 283.667969 181.226562 Z M 248.234375 181.226562 \"/>\n",
       "<path style=\" stroke:none;fill-rule:nonzero;fill:rgb(100%,94.898987%,0%);fill-opacity:0.141704;\" d=\"M 0.199219 74.925781 L 0.199219 39.492188 L 35.632812 39.492188 L 35.632812 74.925781 Z M 0.199219 74.925781 \"/>\n",
       "<path style=\" stroke:none;fill-rule:nonzero;fill:rgb(100%,94.898987%,0%);fill-opacity:0.126768;\" d=\"M 354.535156 39.492188 L 354.535156 4.058594 L 389.96875 4.058594 L 389.96875 39.492188 Z M 354.535156 39.492188 \"/>\n",
       "<path style=\" stroke:none;fill-rule:nonzero;fill:rgb(100%,94.898987%,0%);fill-opacity:0.11428;\" d=\"M 106.5 74.925781 L 106.5 39.492188 L 141.933594 39.492188 L 141.933594 74.925781 Z M 106.5 74.925781 \"/>\n",
       "<path style=\" stroke:none;fill-rule:nonzero;fill:rgb(100%,94.898987%,0%);fill-opacity:0.102762;\" d=\"M 71.066406 145.792969 L 71.066406 110.359375 L 106.5 110.359375 L 106.5 145.792969 Z M 71.066406 145.792969 \"/>\n",
       "<path style=\" stroke:none;fill-rule:nonzero;fill:rgb(100%,94.898987%,0%);fill-opacity:0.114455;\" d=\"M 0.199219 181.226562 L 0.199219 145.792969 L 35.632812 145.792969 L 35.632812 181.226562 Z M 0.199219 181.226562 \"/>\n",
       "<path style=\" stroke:none;fill-rule:nonzero;fill:rgb(100%,94.898987%,0%);fill-opacity:0.117047;\" d=\"M 35.632812 110.359375 L 35.632812 74.925781 L 71.066406 74.925781 L 71.066406 110.359375 Z M 35.632812 110.359375 \"/>\n",
       "<path style=\" stroke:none;fill-rule:nonzero;fill:rgb(100%,94.898987%,0%);fill-opacity:0.106254;\" d=\"M 141.933594 216.660156 L 141.933594 181.226562 L 177.367188 181.226562 L 177.367188 216.660156 Z M 141.933594 216.660156 \"/>\n",
       "<path style=\" stroke:none;fill-rule:nonzero;fill:rgb(100%,94.898987%,0%);fill-opacity:0.13715;\" d=\"M 35.632812 252.09375 L 35.632812 216.660156 L 71.066406 216.660156 L 71.066406 252.09375 Z M 35.632812 252.09375 \"/>\n",
       "<path style=\" stroke:none;fill-rule:nonzero;fill:rgb(100%,94.898987%,0%);fill-opacity:0.140712;\" d=\"M 141.933594 252.09375 L 141.933594 216.660156 L 177.367188 216.660156 L 177.367188 252.09375 Z M 141.933594 252.09375 \"/>\n",
       "<path style=\" stroke:none;fill-rule:nonzero;fill:rgb(100%,94.898987%,0%);fill-opacity:0.128258;\" d=\"M 0.199219 145.792969 L 0.199219 110.359375 L 35.632812 110.359375 L 35.632812 145.792969 Z M 0.199219 145.792969 \"/>\n",
       "<path style=\" stroke:none;fill-rule:nonzero;fill:rgb(100%,94.898987%,0%);fill-opacity:0.0566569;\" d=\"M 248.234375 216.660156 L 248.234375 181.226562 L 283.667969 181.226562 L 283.667969 216.660156 Z M 248.234375 216.660156 \"/>\n",
       "<path style=\" stroke:none;fill-rule:nonzero;fill:rgb(100%,94.898987%,0%);fill-opacity:0.102078;\" d=\"M 106.5 216.660156 L 106.5 181.226562 L 141.933594 181.226562 L 141.933594 216.660156 Z M 106.5 216.660156 \"/>\n",
       "<path style=\" stroke:none;fill-rule:nonzero;fill:rgb(100%,94.898987%,0%);fill-opacity:0.114237;\" d=\"M 141.933594 110.359375 L 141.933594 74.925781 L 177.367188 74.925781 L 177.367188 110.359375 Z M 141.933594 110.359375 \"/>\n",
       "<path style=\" stroke:none;fill-rule:nonzero;fill:rgb(100%,94.898987%,0%);fill-opacity:0.116576;\" d=\"M 141.933594 74.925781 L 141.933594 39.492188 L 177.367188 39.492188 L 177.367188 74.925781 Z M 141.933594 74.925781 \"/>\n",
       "<path style=\" stroke:none;fill-rule:nonzero;fill:rgb(100%,94.898987%,0%);fill-opacity:0.115888;\" d=\"M 212.800781 74.925781 L 212.800781 39.492188 L 248.234375 39.492188 L 248.234375 74.925781 Z M 212.800781 74.925781 \"/>\n",
       "<path style=\" stroke:none;fill-rule:nonzero;fill:rgb(100%,94.898987%,0%);fill-opacity:0.137986;\" d=\"M 35.632812 39.492188 L 35.632812 4.058594 L 71.066406 4.058594 L 71.066406 39.492188 Z M 35.632812 39.492188 \"/>\n",
       "<path style=\" stroke:none;fill-rule:nonzero;fill:rgb(100%,94.898987%,0%);fill-opacity:0.0898332;\" d=\"M 106.5 181.226562 L 106.5 145.792969 L 141.933594 145.792969 L 141.933594 181.226562 Z M 106.5 181.226562 \"/>\n",
       "<path style=\" stroke:none;fill-rule:nonzero;fill:rgb(100%,94.898987%,0%);fill-opacity:0.123004;\" d=\"M 319.101562 216.660156 L 319.101562 181.226562 L 354.535156 181.226562 L 354.535156 216.660156 Z M 319.101562 216.660156 \"/>\n",
       "<path style=\" stroke:none;fill-rule:nonzero;fill:rgb(100%,94.898987%,0%);fill-opacity:0.0902774;\" d=\"M 141.933594 181.226562 L 141.933594 145.792969 L 177.367188 145.792969 L 177.367188 181.226562 Z M 141.933594 181.226562 \"/>\n",
       "<path style=\" stroke:none;fill-rule:nonzero;fill:rgb(100%,94.898987%,0%);fill-opacity:0.104785;\" d=\"M 212.800781 216.660156 L 212.800781 181.226562 L 248.234375 181.226562 L 248.234375 216.660156 Z M 212.800781 216.660156 \"/>\n",
       "<path style=\" stroke:none;fill-rule:nonzero;fill:rgb(100%,94.898987%,0%);fill-opacity:0.114543;\" d=\"M 35.632812 74.925781 L 35.632812 39.492188 L 71.066406 39.492188 L 71.066406 74.925781 Z M 35.632812 74.925781 \"/>\n",
       "<path style=\" stroke:none;fill-rule:nonzero;fill:rgb(100%,94.898987%,0%);fill-opacity:0.134239;\" d=\"M 248.234375 74.925781 L 248.234375 39.492188 L 283.667969 39.492188 L 283.667969 74.925781 Z M 248.234375 74.925781 \"/>\n",
       "<path style=\" stroke:none;fill-rule:nonzero;fill:rgb(100%,94.898987%,0%);fill-opacity:0.137441;\" d=\"M 283.667969 39.492188 L 283.667969 4.058594 L 319.101562 4.058594 L 319.101562 39.492188 Z M 283.667969 39.492188 \"/>\n",
       "<path style=\" stroke:none;fill-rule:nonzero;fill:rgb(100%,94.898987%,0%);fill-opacity:0.141421;\" d=\"M 71.066406 252.09375 L 71.066406 216.660156 L 106.5 216.660156 L 106.5 252.09375 Z M 71.066406 252.09375 \"/>\n",
       "<path style=\" stroke:none;fill-rule:nonzero;fill:rgb(100%,94.898987%,0%);fill-opacity:0.155499;\" d=\"M 319.101562 252.09375 L 319.101562 216.660156 L 354.535156 216.660156 L 354.535156 252.09375 Z M 319.101562 252.09375 \"/>\n",
       "<path style=\" stroke:none;fill-rule:nonzero;fill:rgb(100%,94.898987%,0%);fill-opacity:0.106442;\" d=\"M 35.632812 216.660156 L 35.632812 181.226562 L 71.066406 181.226562 L 71.066406 216.660156 Z M 35.632812 216.660156 \"/>\n",
       "<path style=\" stroke:none;fill-rule:nonzero;fill:rgb(100%,94.898987%,0%);fill-opacity:0.0447214;\" d=\"M 212.800781 145.792969 L 212.800781 110.359375 L 248.234375 110.359375 L 248.234375 145.792969 Z M 212.800781 145.792969 \"/>\n",
       "<path style=\" stroke:none;fill-rule:nonzero;fill:rgb(100%,94.898987%,0%);fill-opacity:0.0204939;\" d=\"M 283.667969 145.792969 L 283.667969 110.359375 L 319.101562 110.359375 L 319.101562 145.792969 Z M 283.667969 145.792969 \"/>\n",
       "<path style=\" stroke:none;fill-rule:nonzero;fill:rgb(100%,94.898987%,0%);fill-opacity:0.0903881;\" d=\"M 212.800781 181.226562 L 212.800781 145.792969 L 248.234375 145.792969 L 248.234375 181.226562 Z M 212.800781 181.226562 \"/>\n",
       "<path style=\" stroke:none;fill-rule:nonzero;fill:rgb(100%,94.898987%,0%);fill-opacity:0.138564;\" d=\"M 283.667969 252.09375 L 283.667969 216.660156 L 319.101562 216.660156 L 319.101562 252.09375 Z M 283.667969 252.09375 \"/>\n",
       "<path style=\" stroke:none;fill-rule:nonzero;fill:rgb(100%,94.898987%,0%);fill-opacity:0.116705;\" d=\"M 177.367188 74.925781 L 177.367188 39.492188 L 212.800781 39.492188 L 212.800781 74.925781 Z M 177.367188 74.925781 \"/>\n",
       "<path style=\" stroke:none;fill-rule:nonzero;fill:rgb(100%,94.898987%,0%);fill-opacity:0.142478;\" d=\"M 71.066406 39.492188 L 71.066406 4.058594 L 106.5 4.058594 L 106.5 39.492188 Z M 71.066406 39.492188 \"/>\n",
       "<path style=\" stroke:none;fill-rule:nonzero;fill:rgb(100%,94.898987%,0%);fill-opacity:0.0320936;\" d=\"M 248.234375 145.792969 L 248.234375 110.359375 L 283.667969 110.359375 L 283.667969 145.792969 Z M 248.234375 145.792969 \"/>\n",
       "<path style=\" stroke:none;fill-rule:nonzero;fill:rgb(100%,94.898987%,0%);fill-opacity:0.0293258;\" d=\"M 283.667969 181.226562 L 283.667969 145.792969 L 319.101562 145.792969 L 319.101562 181.226562 Z M 283.667969 181.226562 \"/>\n",
       "<path style=\" stroke:none;fill-rule:nonzero;fill:rgb(100%,94.898987%,0%);fill-opacity:0.137259;\" d=\"M 177.367188 39.492188 L 177.367188 4.058594 L 212.800781 4.058594 L 212.800781 39.492188 Z M 177.367188 39.492188 \"/>\n",
       "<path style=\" stroke:none;fill-rule:nonzero;fill:rgb(100%,94.898987%,0%);fill-opacity:0.0643428;\" d=\"M 177.367188 145.792969 L 177.367188 110.359375 L 212.800781 110.359375 L 212.800781 145.792969 Z M 177.367188 145.792969 \"/>\n",
       "<path style=\" stroke:none;fill-rule:nonzero;fill:rgb(100%,94.898987%,0%);fill-opacity:0.0913783;\" d=\"M 35.632812 181.226562 L 35.632812 145.792969 L 71.066406 145.792969 L 71.066406 181.226562 Z M 35.632812 181.226562 \"/>\n",
       "<path style=\" stroke:none;fill-rule:nonzero;fill:rgb(100%,94.898987%,0%);fill-opacity:0.107098;\" d=\"M 319.101562 181.226562 L 319.101562 145.792969 L 354.535156 145.792969 L 354.535156 181.226562 Z M 319.101562 181.226562 \"/>\n",
       "<path style=\" stroke:none;fill-rule:nonzero;fill:rgb(100%,94.898987%,0%);fill-opacity:0.0849706;\" d=\"M 319.101562 74.925781 L 319.101562 39.492188 L 354.535156 39.492188 L 354.535156 74.925781 Z M 319.101562 74.925781 \"/>\n",
       "<path style=\" stroke:none;fill-rule:nonzero;fill:rgb(100%,94.898987%,0%);fill-opacity:0.156141;\" d=\"M 0.199219 252.09375 L 0.199219 216.660156 L 35.632812 216.660156 L 35.632812 252.09375 Z M 0.199219 252.09375 \"/>\n",
       "<path style=\" stroke:none;fill-rule:nonzero;fill:rgb(100%,94.898987%,0%);fill-opacity:0.0906642;\" d=\"M 71.066406 181.226562 L 71.066406 145.792969 L 106.5 145.792969 L 106.5 181.226562 Z M 71.066406 181.226562 \"/>\n",
       "<path style=\" stroke:none;fill-rule:nonzero;fill:rgb(100%,94.898987%,0%);fill-opacity:0.136198;\" d=\"M 248.234375 252.09375 L 248.234375 216.660156 L 283.667969 216.660156 L 283.667969 252.09375 Z M 248.234375 252.09375 \"/>\n",
       "<path style=\" stroke:none;fill-rule:nonzero;fill:rgb(100%,94.898987%,0%);fill-opacity:0.119541;\" d=\"M 71.066406 110.359375 L 71.066406 74.925781 L 106.5 74.925781 L 106.5 110.359375 Z M 71.066406 110.359375 \"/>\n",
       "<path style=\" stroke:none;fill-rule:nonzero;fill:rgb(100%,94.898987%,0%);fill-opacity:0.110182;\" d=\"M 212.800781 252.09375 L 212.800781 216.660156 L 248.234375 216.660156 L 248.234375 252.09375 Z M 212.800781 252.09375 \"/>\n",
       "<path style=\" stroke:none;fill-rule:nonzero;fill:rgb(100%,94.898987%,0%);fill-opacity:0.0744312;\" d=\"M 354.535156 181.226562 L 354.535156 145.792969 L 389.96875 145.792969 L 389.96875 181.226562 Z M 354.535156 181.226562 \"/>\n",
       "<path style=\" stroke:none;fill-rule:nonzero;fill:rgb(100%,94.898987%,0%);fill-opacity:0.115974;\" d=\"M 283.667969 74.925781 L 283.667969 39.492188 L 319.101562 39.492188 L 319.101562 74.925781 Z M 283.667969 74.925781 \"/>\n",
       "<path style=\" stroke:none;fill-rule:nonzero;fill:rgb(100%,94.898987%,0%);fill-opacity:0.118068;\" d=\"M 106.5 110.359375 L 106.5 74.925781 L 141.933594 74.925781 L 141.933594 110.359375 Z M 106.5 110.359375 \"/>\n",
       "<path style=\" stroke:none;fill-rule:nonzero;fill:rgb(100%,94.898987%,0%);fill-opacity:0.0803741;\" d=\"M 141.933594 145.792969 L 141.933594 110.359375 L 177.367188 110.359375 L 177.367188 145.792969 Z M 141.933594 145.792969 \"/>\n",
       "<path style=\" stroke:none;fill-rule:nonzero;fill:rgb(100%,94.898987%,0%);fill-opacity:0.124378;\" d=\"M 0.199219 216.660156 L 0.199219 181.226562 L 35.632812 181.226562 L 35.632812 216.660156 Z M 0.199219 216.660156 \"/>\n",
       "<path style=\" stroke:none;fill-rule:nonzero;fill:rgb(100%,94.898987%,0%);fill-opacity:0.16081;\" d=\"M 212.800781 39.492188 L 212.800781 4.058594 L 248.234375 4.058594 L 248.234375 39.492188 Z M 212.800781 39.492188 \"/>\n",
       "<path style=\" stroke:none;fill-rule:nonzero;fill:rgb(100%,94.898987%,0%);fill-opacity:0.136198;\" d=\"M 106.5 252.09375 L 106.5 216.660156 L 141.933594 216.660156 L 141.933594 252.09375 Z M 106.5 252.09375 \"/>\n",
       "<path style=\" stroke:none;fill-rule:nonzero;fill:rgb(100%,94.898987%,0%);fill-opacity:0.137659;\" d=\"M 248.234375 39.492188 L 248.234375 4.058594 L 283.667969 4.058594 L 283.667969 39.492188 Z M 248.234375 39.492188 \"/>\n",
       "<path style=\" stroke:none;fill-rule:nonzero;fill:rgb(100%,94.898987%,0%);fill-opacity:0.117175;\" d=\"M 248.234375 110.359375 L 248.234375 74.925781 L 283.667969 74.925781 L 283.667969 110.359375 Z M 248.234375 110.359375 \"/>\n",
       "<path style=\" stroke:none;fill-rule:nonzero;fill:rgb(100%,94.898987%,0%);fill-opacity:0.140357;\" d=\"M 141.933594 39.492188 L 141.933594 4.058594 L 177.367188 4.058594 L 177.367188 39.492188 Z M 141.933594 39.492188 \"/>\n",
       "<path style=\" stroke:none;fill-rule:nonzero;fill:rgb(100%,94.898987%,0%);fill-opacity:0.0779744;\" d=\"M 354.535156 145.792969 L 354.535156 110.359375 L 389.96875 110.359375 L 389.96875 145.792969 Z M 354.535156 145.792969 \"/>\n",
       "<path style=\" stroke:none;fill-rule:nonzero;fill:rgb(100%,94.898987%,0%);fill-opacity:0.105546;\" d=\"M 177.367188 216.660156 L 177.367188 181.226562 L 212.800781 181.226562 L 212.800781 216.660156 Z M 177.367188 216.660156 \"/>\n",
       "<path style=\" stroke:none;fill-rule:nonzero;fill:rgb(100%,94.898987%,0%);fill-opacity:0.0886002;\" d=\"M 354.535156 216.660156 L 354.535156 181.226562 L 389.96875 181.226562 L 389.96875 216.660156 Z M 354.535156 216.660156 \"/>\n",
       "<path style=\" stroke:none;fill-rule:nonzero;fill:rgb(100%,94.898987%,0%);fill-opacity:0.117218;\" d=\"M 177.367188 110.359375 L 177.367188 74.925781 L 212.800781 74.925781 L 212.800781 110.359375 Z M 177.367188 110.359375 \"/>\n",
       "<path style=\" stroke:none;fill-rule:nonzero;fill:rgb(100%,94.898987%,0%);fill-opacity:0.116662;\" d=\"M 71.066406 74.925781 L 71.066406 39.492188 L 106.5 39.492188 L 106.5 74.925781 Z M 71.066406 74.925781 \"/>\n",
       "<path style=\" stroke:none;fill-rule:nonzero;fill:rgb(100%,94.898987%,0%);fill-opacity:0.0908295;\" d=\"M 177.367188 181.226562 L 177.367188 145.792969 L 212.800781 145.792969 L 212.800781 181.226562 Z M 177.367188 181.226562 \"/>\n",
       "<path style=\" stroke:none;fill-rule:nonzero;fill:rgb(100%,94.898987%,0%);fill-opacity:0.139392;\" d=\"M 106.5 39.492188 L 106.5 4.058594 L 141.933594 4.058594 L 141.933594 39.492188 Z M 106.5 39.492188 \"/>\n",
       "<path style=\" stroke:none;fill-rule:nonzero;fill:rgb(100%,94.898987%,0%);fill-opacity:0.11709;\" d=\"M 283.667969 110.359375 L 283.667969 74.925781 L 319.101562 74.925781 L 319.101562 110.359375 Z M 283.667969 110.359375 \"/>\n",
       "<path style=\" stroke:none;fill-rule:nonzero;fill:rgb(100%,94.898987%,0%);fill-opacity:0.138852;\" d=\"M 0.199219 110.359375 L 0.199219 74.925781 L 35.632812 74.925781 L 35.632812 110.359375 Z M 0.199219 110.359375 \"/>\n",
       "<path style=\" stroke:none;fill-rule:nonzero;fill:rgb(100%,94.898987%,0%);fill-opacity:0.105071;\" d=\"M 354.535156 74.925781 L 354.535156 39.492188 L 389.96875 39.492188 L 389.96875 74.925781 Z M 354.535156 74.925781 \"/>\n",
       "<path style=\" stroke:none;fill-rule:nonzero;fill:rgb(100%,94.898987%,0%);fill-opacity:0.0681175;\" d=\"M 319.101562 110.359375 L 319.101562 74.925781 L 354.535156 74.925781 L 354.535156 110.359375 Z M 319.101562 110.359375 \"/>\n",
       "<path style=\" stroke:none;fill-rule:nonzero;fill:rgb(100%,50%,0%);fill-opacity:0.5;\" d=\"M 212.800781 110.359375 L 212.800781 74.925781 L 248.234375 74.925781 L 248.234375 110.359375 Z M 212.800781 110.359375 \"/>\n",
       "<path style=\" stroke:none;fill-rule:nonzero;fill:rgb(0%,100%,0%);fill-opacity:0.5;\" d=\"M 319.101562 145.792969 L 319.101562 110.359375 L 354.535156 110.359375 L 354.535156 145.792969 Z M 319.101562 145.792969 \"/>\n",
       "<path style=\"fill:none;stroke-width:0.3985;stroke-linecap:butt;stroke-linejoin:miter;stroke:rgb(100%,0%,0%);stroke-opacity:1;stroke-dasharray:2.98883,2.98883;stroke-miterlimit:10;\" d=\"M 336.617406 141.734625 L 336.617406 251.898687 \" transform=\"matrix(1,0,0,-1,0.199,252.094)\"/>\n",
       "<path style=\"fill:none;stroke-width:0.3985;stroke-linecap:butt;stroke-linejoin:miter;stroke:rgb(100%,0%,0%);stroke-opacity:1;stroke-dasharray:2.98883,2.98883;stroke-miterlimit:10;\" d=\"M 336.617406 106.301031 L 336.617406 109.472906 \" transform=\"matrix(1,0,0,-1,0.199,252.094)\"/>\n",
       "<g clip-path=\"url(#clip-1495312568602738-1)\" clip-rule=\"nonzero\">\n",
       "<path style=\"fill:none;stroke-width:0.3985;stroke-linecap:butt;stroke-linejoin:miter;stroke:rgb(100%,0%,0%);stroke-opacity:1;stroke-dasharray:2.98883,2.98883;stroke-miterlimit:10;\" d=\"M 354.336156 124.015875 L 434.043187 124.015875 \" transform=\"matrix(1,0,0,-1,0.199,252.094)\"/>\n",
       "</g>\n",
       "<path style=\"fill:none;stroke-width:0.3985;stroke-linecap:butt;stroke-linejoin:miter;stroke:rgb(100%,0%,0%);stroke-opacity:1;stroke-dasharray:2.98883,2.98883;stroke-miterlimit:10;\" d=\"M 318.902562 124.015875 L 86.886938 124.015875 \" transform=\"matrix(1,0,0,-1,0.199,252.094)\"/>\n",
       "<path style=\"fill:none;stroke-width:0.3985;stroke-linecap:butt;stroke-linejoin:miter;stroke:rgb(100%,0%,0%);stroke-opacity:1;stroke-dasharray:2.98883,2.98883;stroke-miterlimit:10;\" d=\"M 354.336156 141.734625 L 350.711156 138.109625 \" transform=\"matrix(1,0,0,-1,0.199,252.094)\"/>\n",
       "<path style=\"fill:none;stroke-width:0.3985;stroke-linecap:butt;stroke-linejoin:miter;stroke:rgb(100%,0%,0%);stroke-opacity:1;stroke-dasharray:2.98883,2.98883;stroke-miterlimit:10;\" d=\"M 354.336156 106.301031 L 252.656469 207.980719 \" transform=\"matrix(1,0,0,-1,0.199,252.094)\"/>\n",
       "<g clip-path=\"url(#clip-1495312568602738-2)\" clip-rule=\"nonzero\">\n",
       "<path style=\"fill:none;stroke-width:0.3985;stroke-linecap:butt;stroke-linejoin:miter;stroke:rgb(100%,0%,0%);stroke-opacity:1;stroke-dasharray:2.98883,2.98883;stroke-miterlimit:10;\" d=\"M 318.902562 106.301031 L 180.371312 -32.230219 \" transform=\"matrix(1,0,0,-1,0.199,252.094)\"/>\n",
       "</g>\n",
       "<path style=\"fill:none;stroke-width:0.3985;stroke-linecap:butt;stroke-linejoin:miter;stroke:rgb(100%,0%,0%);stroke-opacity:1;stroke-dasharray:2.98883,2.98883;stroke-miterlimit:10;\" d=\"M 318.902562 141.734625 L 265.972875 194.664312 \" transform=\"matrix(1,0,0,-1,0.199,252.094)\"/>\n",
       "<g style=\"fill:rgb(0%,0%,0%);fill-opacity:1;\">\n",
       "  <use xlink:href=\"#glyph-1495312568602738-0-1\" x=\"322.616\" y=\"142.275\"/>\n",
       "</g>\n",
       "<g style=\"fill:rgb(0%,0%,0%);fill-opacity:1;\">\n",
       "  <use xlink:href=\"#glyph-1495312568602738-0-2\" x=\"329.542027\" y=\"142.275\"/>\n",
       "  <use xlink:href=\"#glyph-1495312568602738-0-3\" x=\"333.969425\" y=\"142.275\"/>\n",
       "  <use xlink:href=\"#glyph-1495312568602738-0-4\" x=\"337.89869\" y=\"142.275\"/>\n",
       "</g>\n",
       "<path style=\"fill:none;stroke-width:0.3985;stroke-linecap:butt;stroke-linejoin:miter;stroke:rgb(0%,0%,0%);stroke-opacity:1;stroke-miterlimit:10;\" d=\"M 0.00021875 0.00025 L 389.76975 0.00025 M 0.00021875 35.433844 L 389.76975 35.433844 M 0.00021875 70.867437 L 389.76975 70.867437 M 0.00021875 106.301031 L 389.76975 106.301031 M 0.00021875 141.734625 L 389.76975 141.734625 M 0.00021875 177.168219 L 389.76975 177.168219 M 0.00021875 212.601812 L 389.76975 212.601812 M 0.00021875 248.023687 L 389.76975 248.023687 M 0.00021875 0.00025 L 0.00021875 248.035406 M 35.433813 0.00025 L 35.433813 248.035406 M 70.867406 0.00025 L 70.867406 248.035406 M 106.301 0.00025 L 106.301 248.035406 M 141.734594 0.00025 L 141.734594 248.035406 M 177.168187 0.00025 L 177.168187 248.035406 M 212.601781 0.00025 L 212.601781 248.035406 M 248.035375 0.00025 L 248.035375 248.035406 M 283.468969 0.00025 L 283.468969 248.035406 M 318.902562 0.00025 L 318.902562 248.035406 M 354.336156 0.00025 L 354.336156 248.035406 M 389.758031 0.00025 L 389.758031 248.035406 \" transform=\"matrix(1,0,0,-1,0.199,252.094)\"/>\n",
       "</g>\n",
       "</svg>\n",
       "\n"
      ],
      "text/plain": [
       "LaserTag.LaserTagVis(LaserTag.LaserTagPOMDP\n",
       "  tag_reward: Float64 10.0\n",
       "  step_cost: Float64 1.0\n",
       "  discount: Float64 0.95\n",
       "  floor: LaserTag.Floor\n",
       "  reading_std: Float64 2.5\n",
       "  obstacles: Set{StaticArrays.SVector{2,Int64}}\n",
       "  robot_init: StaticArrays.SVector{2,Int64}\n",
       "  dcache: LaserTag.LTDistanceCache\n",
       ",Nullable{Any}(LaserTag.LTState([10,4],[7,5],false)),Nullable{Any}(4),Nullable{Any}([3.10904,-0.0895148,2.24949,6.5479,-0.144641,-4.05821,5.52904,2.11253]),Nullable{Any}(ParticleFilters.ParticleCollection{LaserTag.LTState}(LaserTag.LTState[LaserTag.LTState([10,4],[1,1],false),LaserTag.LTState([10,4],[7,4],false),LaserTag.LTState([10,4],[5,4],false),LaserTag.LTState([10,4],[9,7],false),LaserTag.LTState([10,4],[9,5],false),LaserTag.LTState([10,4],[7,6],false),LaserTag.LTState([10,4],[9,6],false),LaserTag.LTState([10,4],[2,1],false),LaserTag.LTState([10,4],[9,5],false),LaserTag.LTState([10,4],[1,2],false)  …  LaserTag.LTState([10,4],[1,3],false),LaserTag.LTState([10,4],[6,7],false),LaserTag.LTState([10,4],[4,2],false),LaserTag.LTState([10,4],[11,5],false),LaserTag.LTState([10,4],[11,5],false),LaserTag.LTState([10,4],[6,6],false),LaserTag.LTState([10,4],[1,6],false),LaserTag.LTState([10,4],[7,5],false),LaserTag.LTState([10,4],[6,7],false),LaserTag.LTState([10,4],[7,7],false)],#NULL)),Nullable{Any}())"
      ]
     },
     "execution_count": 6,
     "metadata": {},
     "output_type": "execute_result"
    }
   ],
   "source": [
    "i+=1\n",
    "s = state_hist(hist)[i+1]\n",
    "o = observation_hist(hist)[i]\n",
    "a = action_hist(hist)[i+1]\n",
    "b = belief_hist(hist)[i+1]\n",
    "r = reward_hist(hist)[i+1]\n",
    "LaserTagVis(p, s=s, a=a, o=o, b=b)"
   ]
  },
  {
   "cell_type": "code",
   "execution_count": 219,
   "metadata": {
    "collapsed": false
   },
   "outputs": [
    {
     "data": {
      "text/plain": [
       "-13.560837081711863"
      ]
     },
     "execution_count": 219,
     "metadata": {},
     "output_type": "execute_result"
    }
   ],
   "source": [
    "discounted_reward(hist)"
   ]
  },
  {
   "cell_type": "code",
   "execution_count": null,
   "metadata": {
    "collapsed": true
   },
   "outputs": [],
   "source": []
  }
 ],
 "metadata": {
  "anaconda-cloud": {},
  "kernelspec": {
   "display_name": "Julia 0.5.1",
   "language": "julia",
   "name": "julia-0.5"
  },
  "language_info": {
   "file_extension": ".jl",
   "mimetype": "application/julia",
   "name": "julia",
   "version": "0.5.1"
  }
 },
 "nbformat": 4,
 "nbformat_minor": 1
}

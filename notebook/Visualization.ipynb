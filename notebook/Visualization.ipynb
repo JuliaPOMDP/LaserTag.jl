{
 "cells": [
  {
   "cell_type": "code",
   "execution_count": 1,
   "metadata": {
    "collapsed": false
   },
   "outputs": [
    {
     "data": {
      "text/html": [
       "<div id=\"interact-js-shim\">\n",
       "    <script charset=\"utf-8\">\n",
       "(function (IPython, $, _, MathJax) {\n",
       "    $.event.special.destroyed = {\n",
       "\tremove: function(o) {\n",
       "\t    if (o.handler) {\n",
       "\t\to.handler.apply(this, arguments)\n",
       "\t    }\n",
       "\t}\n",
       "    }\n",
       "\n",
       "    var OutputArea = IPython.version >= \"4.0.0\" ? require(\"notebook/js/outputarea\").OutputArea : IPython.OutputArea;\n",
       "\n",
       "    var redrawValue = function (container, type, val) {\n",
       "\tvar selector = $(\"<div/>\");\n",
       "\tvar oa = new OutputArea(_.extend(selector, {\n",
       "\t    selector: selector,\n",
       "\t    prompt_area: true,\n",
       "\t    events: IPython.events,\n",
       "\t    keyboard_manager: IPython.keyboard_manager\n",
       "\t})); // Hack to work with IPython 2.1.0\n",
       "\n",
       "\tswitch (type) {\n",
       "\tcase \"image/png\":\n",
       "            var _src = 'data:' + type + ';base64,' + val;\n",
       "\t    $(container).find(\"img\").attr('src', _src);\n",
       "\t    break;\n",
       "\tcase \"text/latex\":\n",
       "\t\tif (MathJax){\n",
       "\t\t\tvar math = MathJax.Hub.getAllJax(container)[0];\n",
       "\t\t\tMathJax.Hub.Queue([\"Text\", math, val.replace(/^\\${1,2}|\\${1,2}$/g, '')]);\n",
       "\t\t\tbreak;\n",
       "\t\t}\n",
       "\tdefault:\n",
       "\t    var toinsert = OutputArea.append_map[type].apply(\n",
       "\t\toa, [val, {}, selector]\n",
       "\t    );\n",
       "\t    $(container).empty().append(toinsert.contents());\n",
       "\t    selector.remove();\n",
       "\t}\n",
       "    }\n",
       "\n",
       "\n",
       "    $(document).ready(function() {\n",
       "\tfunction initComm(evt, data) {\n",
       "\t    var comm_manager = data.kernel.comm_manager;\n",
       "        //_.extend(comm_manager.targets, require(\"widgets/js/widget\"))\n",
       "\t    comm_manager.register_target(\"Signal\", function (comm) {\n",
       "            comm.on_msg(function (msg) {\n",
       "                var val = msg.content.data.value;\n",
       "                $(\".signal-\" + comm.comm_id).each(function() {\n",
       "                var type = $(this).data(\"type\");\n",
       "                if (typeof(val[type]) !== \"undefined\" && val[type] !== null) {\n",
       "                    redrawValue(this, type, val[type], type);\n",
       "                }\n",
       "                });\n",
       "                delete val;\n",
       "                delete msg.content.data.value;\n",
       "            });\n",
       "\t    });\n",
       "\n",
       "\t    // coordingate with Comm and redraw Signals\n",
       "\t    // XXX: Test using Reactive here to improve performance\n",
       "\t    $([IPython.events]).on(\n",
       "\t\t'output_appended.OutputArea', function (event, type, value, md, toinsert) {\n",
       "\t\t    if (md && md.reactive) {\n",
       "                // console.log(md.comm_id);\n",
       "                toinsert.addClass(\"signal-\" + md.comm_id);\n",
       "                toinsert.data(\"type\", type);\n",
       "                // Signal back indicating the mimetype required\n",
       "                var comm_manager = IPython.notebook.kernel.comm_manager;\n",
       "                var comm = comm_manager.comms[md.comm_id];\n",
       "                comm.then(function (c) {\n",
       "                    c.send({action: \"subscribe_mime\",\n",
       "                       mime: type});\n",
       "                    toinsert.bind(\"destroyed\", function() {\n",
       "                        c.send({action: \"unsubscribe_mime\",\n",
       "                               mime: type});\n",
       "                    });\n",
       "                })\n",
       "\t\t    }\n",
       "\t    });\n",
       "\t}\n",
       "\n",
       "\ttry {\n",
       "\t    // try to initialize right away. otherwise, wait on the status_started event.\n",
       "\t    initComm(undefined, IPython.notebook);\n",
       "\t} catch (e) {\n",
       "\t    $([IPython.events]).on('kernel_created.Kernel kernel_created.Session', initComm);\n",
       "\t}\n",
       "    });\n",
       "})(IPython, jQuery, _, MathJax);\n",
       "</script>\n",
       "    <script>\n",
       "        window.interactLoadedFlag = true\n",
       "       $(\"#interact-js-shim\").bind(\"destroyed\", function () {\n",
       "           if (window.interactLoadedFlag) {\n",
       "               console.warn(\"JavaScript required by Interact will be removed if you remove this cell or run using Interact more than once.\")\n",
       "           }\n",
       "       })\n",
       "       $([IPython.events]).on(\"kernel_starting.Kernel kernel_restarting.Kernel\", function () { window.interactLoadedFlag = false })\n",
       "   </script>\n",
       "</div>"
      ]
     },
     "metadata": {},
     "output_type": "display_data"
    },
    {
     "data": {
      "text/plain": [
       "value (generic function with 2 methods)"
      ]
     },
     "execution_count": 1,
     "metadata": {},
     "output_type": "execute_result"
    }
   ],
   "source": [
    "using POMDPs\n",
    "using LaserTag\n",
    "using ParticleFilters\n",
    "using POMDPToolbox\n",
    "using QMDP\n",
    "using DiscreteValueIteration\n",
    "using Interact\n",
    "value = Interact.value"
   ]
  },
  {
   "cell_type": "code",
   "execution_count": 5,
   "metadata": {
    "collapsed": false
   },
   "outputs": [
    {
     "data": {
      "text/plain": [
       "22"
      ]
     },
     "execution_count": 5,
     "metadata": {},
     "output_type": "execute_result"
    }
   ],
   "source": [
    "p = gen_lasertag(rng=MersenneTwister(4), reading_std=2.5, discrete=true)\n",
    "up = SIRParticleFilter(p, 100000)\n",
    "# policy = solve(QMDPSolver(), p)\n",
    "policy = solve(BestExpectedSolver(ValueIterationSolver()), p)\n",
    "hr = HistoryRecorder(max_steps=100, rng=MersenneTwister(3))\n",
    "hist = simulate(hr, p, policy, up)\n",
    "ns = n_steps(hist)-1"
   ]
  },
  {
   "cell_type": "code",
   "execution_count": 6,
   "metadata": {
    "collapsed": false
   },
   "outputs": [
    {
     "data": {
      "text/html": [],
      "text/plain": [
       "Interact.Options{:SelectionSlider,Int64}(9: \"input-3\" = 11 Int64 ,\"i\",11,\"11\",Interact.OptionDict(DataStructures.OrderedDict(\"1\"=>1,\"2\"=>2,\"3\"=>3,\"4\"=>4,\"5\"=>5,\"6\"=>6,\"7\"=>7,\"8\"=>8,\"9\"=>9,\"10\"=>10…),Dict(18=>\"18\",2=>\"2\",16=>\"16\",11=>\"11\",21=>\"21\",7=>\"7\",9=>\"9\",10=>\"10\",19=>\"19\",17=>\"17\"…)),Any[],Any[],true,\"horizontal\")"
      ]
     },
     "metadata": {},
     "output_type": "display_data"
    },
    {
     "data": {
      "image/png": "[encoded data removed]",
      "image/svg+xml": [
       "<?xml version=\"1.0\" encoding=\"UTF-8\"?>\n",
       "<svg xmlns=\"http://www.w3.org/2000/svg\" xmlns:xlink=\"http://www.w3.org/1999/xlink\" width=\"389.764pt\" height=\"248.031pt\" viewBox=\"0 0 389.764 248.031\" version=\"1.1\">\n",
       "<defs>\n",
       "<g>\n",
       "<symbol overflow=\"visible\" id=\"glyph-1495312568602781-0-0\">\n",
       "<path style=\"stroke:none;\" d=\"\"/>\n",
       "</symbol>\n",
       "<symbol overflow=\"visible\" id=\"glyph-1495312568602781-0-1\">\n",
       "<path style=\"stroke:none;\" d=\"M 2.078125 -1.9375 C 2.296875 -1.890625 3.109375 -1.734375 3.109375 -1.015625 C 3.109375 -0.515625 2.765625 -0.109375 1.984375 -0.109375 C 1.140625 -0.109375 0.78125 -0.671875 0.59375 -1.53125 C 0.5625 -1.65625 0.5625 -1.6875 0.453125 -1.6875 C 0.328125 -1.6875 0.328125 -1.625 0.328125 -1.453125 L 0.328125 -0.125 C 0.328125 0.046875 0.328125 0.109375 0.4375 0.109375 C 0.484375 0.109375 0.5 0.09375 0.6875 -0.09375 C 0.703125 -0.109375 0.703125 -0.125 0.890625 -0.3125 C 1.328125 0.09375 1.78125 0.109375 1.984375 0.109375 C 3.125 0.109375 3.59375 -0.5625 3.59375 -1.28125 C 3.59375 -1.796875 3.296875 -2.109375 3.171875 -2.21875 C 2.84375 -2.546875 2.453125 -2.625 2.03125 -2.703125 C 1.46875 -2.8125 0.8125 -2.9375 0.8125 -3.515625 C 0.8125 -3.875 1.0625 -4.28125 1.921875 -4.28125 C 3.015625 -4.28125 3.078125 -3.375 3.09375 -3.078125 C 3.09375 -2.984375 3.1875 -2.984375 3.203125 -2.984375 C 3.34375 -2.984375 3.34375 -3.03125 3.34375 -3.21875 L 3.34375 -4.234375 C 3.34375 -4.390625 3.34375 -4.46875 3.234375 -4.46875 C 3.1875 -4.46875 3.15625 -4.46875 3.03125 -4.34375 C 3 -4.3125 2.90625 -4.21875 2.859375 -4.1875 C 2.484375 -4.46875 2.078125 -4.46875 1.921875 -4.46875 C 0.703125 -4.46875 0.328125 -3.796875 0.328125 -3.234375 C 0.328125 -2.890625 0.484375 -2.609375 0.75 -2.390625 C 1.078125 -2.140625 1.359375 -2.078125 2.078125 -1.9375 Z M 2.078125 -1.9375 \"/>\n",
       "</symbol>\n",
       "<symbol overflow=\"visible\" id=\"glyph-1495312568602781-0-2\">\n",
       "<path style=\"stroke:none;\" d=\"M 4.6875 -2.140625 C 4.6875 -3.40625 3.703125 -4.46875 2.5 -4.46875 C 1.25 -4.46875 0.28125 -3.375 0.28125 -2.140625 C 0.28125 -0.84375 1.3125 0.109375 2.484375 0.109375 C 3.6875 0.109375 4.6875 -0.875 4.6875 -2.140625 Z M 2.5 -0.140625 C 2.0625 -0.140625 1.625 -0.34375 1.359375 -0.8125 C 1.109375 -1.25 1.109375 -1.859375 1.109375 -2.21875 C 1.109375 -2.609375 1.109375 -3.140625 1.34375 -3.578125 C 1.609375 -4.03125 2.078125 -4.25 2.484375 -4.25 C 2.921875 -4.25 3.34375 -4.03125 3.609375 -3.59375 C 3.875 -3.171875 3.875 -2.59375 3.875 -2.21875 C 3.875 -1.859375 3.875 -1.3125 3.65625 -0.875 C 3.421875 -0.421875 2.984375 -0.140625 2.5 -0.140625 Z M 2.5 -0.140625 \"/>\n",
       "</symbol>\n",
       "<symbol overflow=\"visible\" id=\"glyph-1495312568602781-0-3\">\n",
       "<path style=\"stroke:none;\" d=\"M 3.890625 -0.78125 L 3.890625 0.109375 L 5.328125 0 L 5.328125 -0.3125 C 4.640625 -0.3125 4.5625 -0.375 4.5625 -0.875 L 4.5625 -4.40625 L 3.09375 -4.296875 L 3.09375 -3.984375 C 3.78125 -3.984375 3.875 -3.921875 3.875 -3.421875 L 3.875 -1.65625 C 3.875 -0.78125 3.390625 -0.109375 2.65625 -0.109375 C 1.828125 -0.109375 1.78125 -0.578125 1.78125 -1.09375 L 1.78125 -4.40625 L 0.3125 -4.296875 L 0.3125 -3.984375 C 1.09375 -3.984375 1.09375 -3.953125 1.09375 -3.078125 L 1.09375 -1.578125 C 1.09375 -0.796875 1.09375 0.109375 2.609375 0.109375 C 3.171875 0.109375 3.609375 -0.171875 3.890625 -0.78125 Z M 3.890625 -0.78125 \"/>\n",
       "</symbol>\n",
       "<symbol overflow=\"visible\" id=\"glyph-1495312568602781-0-4\">\n",
       "<path style=\"stroke:none;\" d=\"M 1.71875 -3.984375 L 3.15625 -3.984375 L 3.15625 -4.296875 L 1.71875 -4.296875 L 1.71875 -6.125 L 1.46875 -6.125 C 1.46875 -5.3125 1.171875 -4.25 0.1875 -4.203125 L 0.1875 -3.984375 L 1.03125 -3.984375 L 1.03125 -1.234375 C 1.03125 -0.015625 1.96875 0.109375 2.328125 0.109375 C 3.03125 0.109375 3.3125 -0.59375 3.3125 -1.234375 L 3.3125 -1.796875 L 3.0625 -1.796875 L 3.0625 -1.25 C 3.0625 -0.515625 2.765625 -0.140625 2.390625 -0.140625 C 1.71875 -0.140625 1.71875 -1.046875 1.71875 -1.21875 Z M 1.71875 -3.984375 \"/>\n",
       "</symbol>\n",
       "<symbol overflow=\"visible\" id=\"glyph-1495312568602781-0-5\">\n",
       "<path style=\"stroke:none;\" d=\"M 1.09375 -0.75 C 1.09375 -0.3125 0.984375 -0.3125 0.3125 -0.3125 L 0.3125 0 C 0.671875 -0.015625 1.171875 -0.03125 1.453125 -0.03125 C 1.703125 -0.03125 2.21875 -0.015625 2.5625 0 L 2.5625 -0.3125 C 1.890625 -0.3125 1.78125 -0.3125 1.78125 -0.75 L 1.78125 -2.59375 C 1.78125 -3.625 2.5 -4.1875 3.125 -4.1875 C 3.765625 -4.1875 3.875 -3.65625 3.875 -3.078125 L 3.875 -0.75 C 3.875 -0.3125 3.765625 -0.3125 3.09375 -0.3125 L 3.09375 0 C 3.4375 -0.015625 3.953125 -0.03125 4.21875 -0.03125 C 4.46875 -0.03125 5 -0.015625 5.328125 0 L 5.328125 -0.3125 C 4.8125 -0.3125 4.5625 -0.3125 4.5625 -0.609375 L 4.5625 -2.515625 C 4.5625 -3.375 4.5625 -3.671875 4.25 -4.03125 C 4.109375 -4.203125 3.78125 -4.40625 3.203125 -4.40625 C 2.359375 -4.40625 1.921875 -3.8125 1.75 -3.421875 L 1.75 -6.921875 L 0.3125 -6.8125 L 0.3125 -6.5 C 1.015625 -6.5 1.09375 -6.4375 1.09375 -5.9375 Z M 1.09375 -0.75 \"/>\n",
       "</symbol>\n",
       "<symbol overflow=\"visible\" id=\"glyph-1495312568602781-0-6\">\n",
       "<path style=\"stroke:none;\" d=\"M 1.109375 -2.515625 C 1.171875 -4 2.015625 -4.25 2.359375 -4.25 C 3.375 -4.25 3.484375 -2.90625 3.484375 -2.515625 Z M 1.109375 -2.296875 L 3.890625 -2.296875 C 4.109375 -2.296875 4.140625 -2.296875 4.140625 -2.515625 C 4.140625 -3.5 3.59375 -4.46875 2.359375 -4.46875 C 1.203125 -4.46875 0.28125 -3.4375 0.28125 -2.1875 C 0.28125 -0.859375 1.328125 0.109375 2.46875 0.109375 C 3.6875 0.109375 4.140625 -1 4.140625 -1.1875 C 4.140625 -1.28125 4.0625 -1.3125 4 -1.3125 C 3.921875 -1.3125 3.890625 -1.25 3.875 -1.171875 C 3.53125 -0.140625 2.625 -0.140625 2.53125 -0.140625 C 2.03125 -0.140625 1.640625 -0.4375 1.40625 -0.8125 C 1.109375 -1.28125 1.109375 -1.9375 1.109375 -2.296875 Z M 1.109375 -2.296875 \"/>\n",
       "</symbol>\n",
       "<symbol overflow=\"visible\" id=\"glyph-1495312568602781-0-7\">\n",
       "<path style=\"stroke:none;\" d=\"M 3.3125 -0.75 C 3.359375 -0.359375 3.625 0.0625 4.09375 0.0625 C 4.3125 0.0625 4.921875 -0.078125 4.921875 -0.890625 L 4.921875 -1.453125 L 4.671875 -1.453125 L 4.671875 -0.890625 C 4.671875 -0.3125 4.421875 -0.25 4.3125 -0.25 C 3.984375 -0.25 3.9375 -0.703125 3.9375 -0.75 L 3.9375 -2.734375 C 3.9375 -3.15625 3.9375 -3.546875 3.578125 -3.921875 C 3.1875 -4.3125 2.6875 -4.46875 2.21875 -4.46875 C 1.390625 -4.46875 0.703125 -4 0.703125 -3.34375 C 0.703125 -3.046875 0.90625 -2.875 1.171875 -2.875 C 1.453125 -2.875 1.625 -3.078125 1.625 -3.328125 C 1.625 -3.453125 1.578125 -3.78125 1.109375 -3.78125 C 1.390625 -4.140625 1.875 -4.25 2.1875 -4.25 C 2.6875 -4.25 3.25 -3.859375 3.25 -2.96875 L 3.25 -2.609375 C 2.734375 -2.578125 2.046875 -2.546875 1.421875 -2.25 C 0.671875 -1.90625 0.421875 -1.390625 0.421875 -0.953125 C 0.421875 -0.140625 1.390625 0.109375 2.015625 0.109375 C 2.671875 0.109375 3.125 -0.296875 3.3125 -0.75 Z M 3.25 -2.390625 L 3.25 -1.390625 C 3.25 -0.453125 2.53125 -0.109375 2.078125 -0.109375 C 1.59375 -0.109375 1.1875 -0.453125 1.1875 -0.953125 C 1.1875 -1.5 1.609375 -2.328125 3.25 -2.390625 Z M 3.25 -2.390625 \"/>\n",
       "</symbol>\n",
       "</g>\n",
       "<clipPath id=\"clip-1495312568602781-1\">\n",
       "  <path d=\"M 354 70 L 389.765625 70 L 389.765625 107 L 354 107 Z M 354 70 \"/>\n",
       "</clipPath>\n",
       "<clipPath id=\"clip-1495312568602781-2\">\n",
       "  <path d=\"M 354 212 L 389.765625 212 L 389.765625 248.03125 L 354 248.03125 Z M 354 212 \"/>\n",
       "</clipPath>\n",
       "<clipPath id=\"clip-1495312568602781-3\">\n",
       "  <path d=\"M 177 212 L 213 212 L 213 248.03125 L 177 248.03125 Z M 177 212 \"/>\n",
       "</clipPath>\n",
       "<clipPath id=\"clip-1495312568602781-4\">\n",
       "  <path d=\"M 354 0 L 389.765625 0 L 389.765625 36 L 354 36 Z M 354 0 \"/>\n",
       "</clipPath>\n",
       "<clipPath id=\"clip-1495312568602781-5\">\n",
       "  <path d=\"M 35 212 L 71 212 L 71 248.03125 L 35 248.03125 Z M 35 212 \"/>\n",
       "</clipPath>\n",
       "<clipPath id=\"clip-1495312568602781-6\">\n",
       "  <path d=\"M 141 212 L 178 212 L 178 248.03125 L 141 248.03125 Z M 141 212 \"/>\n",
       "</clipPath>\n",
       "<clipPath id=\"clip-1495312568602781-7\">\n",
       "  <path d=\"M 70 212 L 107 212 L 107 248.03125 L 70 248.03125 Z M 70 212 \"/>\n",
       "</clipPath>\n",
       "<clipPath id=\"clip-1495312568602781-8\">\n",
       "  <path d=\"M 318 212 L 355 212 L 355 248.03125 L 318 248.03125 Z M 318 212 \"/>\n",
       "</clipPath>\n",
       "<clipPath id=\"clip-1495312568602781-9\">\n",
       "  <path d=\"M 283 212 L 319 212 L 319 248.03125 L 283 248.03125 Z M 283 212 \"/>\n",
       "</clipPath>\n",
       "<clipPath id=\"clip-1495312568602781-10\">\n",
       "  <path d=\"M 0 212 L 36 212 L 36 248.03125 L 0 248.03125 Z M 0 212 \"/>\n",
       "</clipPath>\n",
       "<clipPath id=\"clip-1495312568602781-11\">\n",
       "  <path d=\"M 248 212 L 284 212 L 284 248.03125 L 248 248.03125 Z M 248 212 \"/>\n",
       "</clipPath>\n",
       "<clipPath id=\"clip-1495312568602781-12\">\n",
       "  <path d=\"M 212 212 L 249 212 L 249 248.03125 L 212 248.03125 Z M 212 212 \"/>\n",
       "</clipPath>\n",
       "<clipPath id=\"clip-1495312568602781-13\">\n",
       "  <path d=\"M 354 141 L 389.765625 141 L 389.765625 178 L 354 178 Z M 354 141 \"/>\n",
       "</clipPath>\n",
       "<clipPath id=\"clip-1495312568602781-14\">\n",
       "  <path d=\"M 106 212 L 142 212 L 142 248.03125 L 106 248.03125 Z M 106 212 \"/>\n",
       "</clipPath>\n",
       "<clipPath id=\"clip-1495312568602781-15\">\n",
       "  <path d=\"M 354 106 L 389.765625 106 L 389.765625 142 L 354 142 Z M 354 106 \"/>\n",
       "</clipPath>\n",
       "<clipPath id=\"clip-1495312568602781-16\">\n",
       "  <path d=\"M 354 177 L 389.765625 177 L 389.765625 213 L 354 213 Z M 354 177 \"/>\n",
       "</clipPath>\n",
       "<clipPath id=\"clip-1495312568602781-17\">\n",
       "  <path d=\"M 354 35 L 389.765625 35 L 389.765625 71 L 354 71 Z M 354 35 \"/>\n",
       "</clipPath>\n",
       "<clipPath id=\"clip-1495312568602781-18\">\n",
       "  <path d=\"M 336 212 L 337 212 L 337 248.03125 L 336 248.03125 Z M 336 212 \"/>\n",
       "</clipPath>\n",
       "<clipPath id=\"clip-1495312568602781-19\">\n",
       "  <path d=\"M 354 194 L 389.765625 194 L 389.765625 196 L 354 196 Z M 354 194 \"/>\n",
       "</clipPath>\n",
       "<clipPath id=\"clip-1495312568602781-20\">\n",
       "  <path d=\"M 348 71 L 389.765625 71 L 389.765625 183 L 348 183 Z M 348 71 \"/>\n",
       "</clipPath>\n",
       "<clipPath id=\"clip-1495312568602781-21\">\n",
       "  <path d=\"M 348 206 L 389.765625 206 L 389.765625 248.03125 L 348 248.03125 Z M 348 206 \"/>\n",
       "</clipPath>\n",
       "<clipPath id=\"clip-1495312568602781-22\">\n",
       "  <path d=\"M 263 206 L 325 206 L 325 248.03125 L 263 248.03125 Z M 263 206 \"/>\n",
       "</clipPath>\n",
       "</defs>\n",
       "<g id=\"surface1\">\n",
       "<path style=\" stroke:none;fill-rule:nonzero;fill:rgb(50%,50%,50%);fill-opacity:0.5;\" d=\"M 35.433594 177.164062 L 35.433594 141.730469 L 70.867188 141.730469 L 70.867188 177.164062 Z M 35.433594 177.164062 \"/>\n",
       "<path style=\" stroke:none;fill-rule:nonzero;fill:rgb(50%,50%,50%);fill-opacity:0.5;\" d=\"M 212.601562 177.164062 L 212.601562 141.730469 L 248.035156 141.730469 L 248.035156 177.164062 Z M 212.601562 177.164062 \"/>\n",
       "<path style=\" stroke:none;fill-rule:nonzero;fill:rgb(50%,50%,50%);fill-opacity:0.5;\" d=\"M 0 177.164062 L 0 141.730469 L 35.433594 141.730469 L 35.433594 177.164062 Z M 0 177.164062 \"/>\n",
       "<path style=\" stroke:none;fill-rule:nonzero;fill:rgb(50%,50%,50%);fill-opacity:0.5;\" d=\"M 35.433594 106.296875 L 35.433594 70.863281 L 70.867188 70.863281 L 70.867188 106.296875 Z M 35.433594 106.296875 \"/>\n",
       "<path style=\" stroke:none;fill-rule:nonzero;fill:rgb(50%,50%,50%);fill-opacity:0.5;\" d=\"M 283.46875 106.296875 L 283.46875 70.863281 L 318.902344 70.863281 L 318.902344 106.296875 Z M 283.46875 106.296875 \"/>\n",
       "<path style=\" stroke:none;fill-rule:nonzero;fill:rgb(50%,50%,50%);fill-opacity:0.5;\" d=\"M 141.734375 70.863281 L 141.734375 35.429688 L 177.167969 35.429688 L 177.167969 70.863281 Z M 141.734375 70.863281 \"/>\n",
       "<path style=\" stroke:none;fill-rule:nonzero;fill:rgb(50%,50%,50%);fill-opacity:0.5;\" d=\"M 212.601562 141.730469 L 212.601562 106.296875 L 248.035156 106.296875 L 248.035156 141.730469 Z M 212.601562 141.730469 \"/>\n",
       "<path style=\" stroke:none;fill-rule:nonzero;fill:rgb(50%,50%,50%);fill-opacity:0.5;\" d=\"M 35.433594 35.429688 L 35.433594 -0.00390625 L 70.867188 -0.00390625 L 70.867188 35.429688 Z M 35.433594 35.429688 \"/>\n",
       "<path style=\" stroke:none;fill-rule:nonzero;fill:rgb(100%,94.898987%,0%);fill-opacity:0.0187083;\" d=\"M 106.300781 141.730469 L 106.300781 106.296875 L 141.734375 106.296875 L 141.734375 141.730469 Z M 106.300781 141.730469 \"/>\n",
       "<g clip-path=\"url(#clip-1495312568602781-1)\" clip-rule=\"nonzero\">\n",
       "<path style=\" stroke:none;fill-rule:nonzero;fill:rgb(100%,94.898987%,0%);fill-opacity:0.0134164;\" d=\"M 354.335938 106.296875 L 354.335938 70.863281 L 389.769531 70.863281 L 389.769531 106.296875 Z M 354.335938 106.296875 \"/>\n",
       "</g>\n",
       "<path style=\" stroke:none;fill-rule:nonzero;fill:rgb(100%,94.898987%,0%);fill-opacity:0.0225832;\" d=\"M 70.867188 212.597656 L 70.867188 177.164062 L 106.300781 177.164062 L 106.300781 212.597656 Z M 70.867188 212.597656 \"/>\n",
       "<g clip-path=\"url(#clip-1495312568602781-2)\" clip-rule=\"nonzero\">\n",
       "<path style=\" stroke:none;fill-rule:nonzero;fill:rgb(100%,94.898987%,0%);fill-opacity:0.206809;\" d=\"M 354.335938 248.03125 L 354.335938 212.597656 L 389.769531 212.597656 L 389.769531 248.03125 Z M 354.335938 248.03125 \"/>\n",
       "</g>\n",
       "<g clip-path=\"url(#clip-1495312568602781-3)\" clip-rule=\"nonzero\">\n",
       "<path style=\" stroke:none;fill-rule:nonzero;fill:rgb(100%,94.898987%,0%);fill-opacity:0.135978;\" d=\"M 177.167969 248.03125 L 177.167969 212.597656 L 212.601562 212.597656 L 212.601562 248.03125 Z M 177.167969 248.03125 \"/>\n",
       "</g>\n",
       "<path style=\" stroke:none;fill-rule:nonzero;fill:rgb(100%,94.898987%,0%);fill-opacity:0.0309839;\" d=\"M 35.433594 141.730469 L 35.433594 106.296875 L 70.867188 106.296875 L 70.867188 141.730469 Z M 35.433594 141.730469 \"/>\n",
       "<path style=\" stroke:none;fill-rule:nonzero;fill:rgb(100%,94.898987%,0%);fill-opacity:0.0173205;\" d=\"M 212.601562 106.296875 L 212.601562 70.863281 L 248.035156 70.863281 L 248.035156 106.296875 Z M 212.601562 106.296875 \"/>\n",
       "<path style=\" stroke:none;fill-rule:nonzero;fill:rgb(100%,94.898987%,0%);fill-opacity:0.547732;\" d=\"M 0 35.429688 L 0 -0.00390625 L 35.433594 -0.00390625 L 35.433594 35.429688 Z M 0 35.429688 \"/>\n",
       "<path style=\" stroke:none;fill-rule:nonzero;fill:rgb(100%,94.898987%,0%);fill-opacity:0.167063;\" d=\"M 0 70.863281 L 0 35.429688 L 35.433594 35.429688 L 35.433594 70.863281 Z M 0 70.863281 \"/>\n",
       "<g clip-path=\"url(#clip-1495312568602781-4)\" clip-rule=\"nonzero\">\n",
       "<path style=\" stroke:none;fill-rule:nonzero;fill:rgb(100%,94.898987%,0%);fill-opacity:0.0197484;\" d=\"M 354.335938 35.429688 L 354.335938 -0.00390625 L 389.769531 -0.00390625 L 389.769531 35.429688 Z M 354.335938 35.429688 \"/>\n",
       "</g>\n",
       "<path style=\" stroke:none;fill-rule:nonzero;fill:rgb(100%,94.898987%,0%);fill-opacity:0.00632456;\" d=\"M 248.035156 177.164062 L 248.035156 141.730469 L 283.46875 141.730469 L 283.46875 177.164062 Z M 248.035156 177.164062 \"/>\n",
       "<path style=\" stroke:none;fill-rule:nonzero;fill:rgb(100%,94.898987%,0%);fill-opacity:0.0336155;\" d=\"M 106.300781 70.863281 L 106.300781 35.429688 L 141.734375 35.429688 L 141.734375 70.863281 Z M 106.300781 70.863281 \"/>\n",
       "<path style=\" stroke:none;fill-rule:nonzero;fill:rgb(100%,94.898987%,0%);fill-opacity:0.0254951;\" d=\"M 70.867188 141.730469 L 70.867188 106.296875 L 106.300781 106.296875 L 106.300781 141.730469 Z M 70.867188 141.730469 \"/>\n",
       "<path style=\" stroke:none;fill-rule:nonzero;fill:rgb(100%,94.898987%,0%);fill-opacity:0.133267;\" d=\"M 0 177.164062 L 0 141.730469 L 35.433594 141.730469 L 35.433594 177.164062 Z M 0 177.164062 \"/>\n",
       "<path style=\" stroke:none;fill-rule:nonzero;fill:rgb(100%,94.898987%,0%);fill-opacity:0.04;\" d=\"M 35.433594 106.296875 L 35.433594 70.863281 L 70.867188 70.863281 L 70.867188 106.296875 Z M 35.433594 106.296875 \"/>\n",
       "<path style=\" stroke:none;fill-rule:nonzero;fill:rgb(100%,94.898987%,0%);fill-opacity:0.00632456;\" d=\"M 141.734375 212.597656 L 141.734375 177.164062 L 177.167969 177.164062 L 177.167969 212.597656 Z M 141.734375 212.597656 \"/>\n",
       "<g clip-path=\"url(#clip-1495312568602781-5)\" clip-rule=\"nonzero\">\n",
       "<path style=\" stroke:none;fill-rule:nonzero;fill:rgb(100%,94.898987%,0%);fill-opacity:0.150964;\" d=\"M 35.433594 248.03125 L 35.433594 212.597656 L 70.867188 212.597656 L 70.867188 248.03125 Z M 35.433594 248.03125 \"/>\n",
       "</g>\n",
       "<path style=\" stroke:none;fill-rule:nonzero;fill:rgb(100%,94.898987%,0%);fill-opacity:0.130384;\" d=\"M 0 141.730469 L 0 106.296875 L 35.433594 106.296875 L 35.433594 141.730469 Z M 0 141.730469 \"/>\n",
       "<g clip-path=\"url(#clip-1495312568602781-6)\" clip-rule=\"nonzero\">\n",
       "<path style=\" stroke:none;fill-rule:nonzero;fill:rgb(100%,94.898987%,0%);fill-opacity:0.146629;\" d=\"M 141.734375 248.03125 L 141.734375 212.597656 L 177.167969 212.597656 L 177.167969 248.03125 Z M 141.734375 248.03125 \"/>\n",
       "</g>\n",
       "<path style=\" stroke:none;fill-rule:nonzero;fill:rgb(100%,94.898987%,0%);fill-opacity:0.0109545;\" d=\"M 106.300781 212.597656 L 106.300781 177.164062 L 141.734375 177.164062 L 141.734375 212.597656 Z M 106.300781 212.597656 \"/>\n",
       "<path style=\" stroke:none;fill-rule:nonzero;fill:rgb(100%,94.898987%,0%);fill-opacity:0.0230217;\" d=\"M 141.734375 106.296875 L 141.734375 70.863281 L 177.167969 70.863281 L 177.167969 106.296875 Z M 141.734375 106.296875 \"/>\n",
       "<path style=\" stroke:none;fill-rule:nonzero;fill:rgb(100%,94.898987%,0%);fill-opacity:0.0270185;\" d=\"M 141.734375 70.863281 L 141.734375 35.429688 L 177.167969 35.429688 L 177.167969 70.863281 Z M 141.734375 70.863281 \"/>\n",
       "<path style=\" stroke:none;fill-rule:nonzero;fill:rgb(100%,94.898987%,0%);fill-opacity:0.0109545;\" d=\"M 212.601562 70.863281 L 212.601562 35.429688 L 248.035156 35.429688 L 248.035156 70.863281 Z M 212.601562 70.863281 \"/>\n",
       "<path style=\" stroke:none;fill-rule:nonzero;fill:rgb(100%,94.898987%,0%);fill-opacity:0.202978;\" d=\"M 35.433594 35.429688 L 35.433594 -0.00390625 L 70.867188 -0.00390625 L 70.867188 35.429688 Z M 35.433594 35.429688 \"/>\n",
       "<path style=\" stroke:none;fill-rule:nonzero;fill:rgb(100%,94.898987%,0%);fill-opacity:0.0216795;\" d=\"M 106.300781 177.164062 L 106.300781 141.730469 L 141.734375 141.730469 L 141.734375 177.164062 Z M 106.300781 177.164062 \"/>\n",
       "<path style=\" stroke:none;fill-rule:nonzero;fill:rgb(100%,94.898987%,0%);fill-opacity:0.0170294;\" d=\"M 141.734375 177.164062 L 141.734375 141.730469 L 177.167969 141.730469 L 177.167969 177.164062 Z M 141.734375 177.164062 \"/>\n",
       "<path style=\" stroke:none;fill-rule:nonzero;fill:rgb(100%,94.898987%,0%);fill-opacity:0.052345;\" d=\"M 35.433594 70.863281 L 35.433594 35.429688 L 70.867188 35.429688 L 70.867188 70.863281 Z M 35.433594 70.863281 \"/>\n",
       "<path style=\" stroke:none;fill-rule:nonzero;fill:rgb(100%,94.898987%,0%);fill-opacity:0.00707107;\" d=\"M 248.035156 70.863281 L 248.035156 35.429688 L 283.46875 35.429688 L 283.46875 70.863281 Z M 248.035156 70.863281 \"/>\n",
       "<path style=\" stroke:none;fill-rule:nonzero;fill:rgb(100%,94.898987%,0%);fill-opacity:0.0221359;\" d=\"M 283.46875 35.429688 L 283.46875 -0.00390625 L 318.902344 -0.00390625 L 318.902344 35.429688 Z M 283.46875 35.429688 \"/>\n",
       "<g clip-path=\"url(#clip-1495312568602781-7)\" clip-rule=\"nonzero\">\n",
       "<path style=\" stroke:none;fill-rule:nonzero;fill:rgb(100%,94.898987%,0%);fill-opacity:0.133828;\" d=\"M 70.867188 248.03125 L 70.867188 212.597656 L 106.300781 212.597656 L 106.300781 248.03125 Z M 70.867188 248.03125 \"/>\n",
       "</g>\n",
       "<g clip-path=\"url(#clip-1495312568602781-8)\" clip-rule=\"nonzero\">\n",
       "<path style=\" stroke:none;fill-rule:nonzero;fill:rgb(100%,94.898987%,0%);fill-opacity:0.0791202;\" d=\"M 318.902344 248.03125 L 318.902344 212.597656 L 354.335938 212.597656 L 354.335938 248.03125 Z M 318.902344 248.03125 \"/>\n",
       "</g>\n",
       "<path style=\" stroke:none;fill-rule:nonzero;fill:rgb(100%,94.898987%,0%);fill-opacity:0.0360555;\" d=\"M 35.433594 212.597656 L 35.433594 177.164062 L 70.867188 177.164062 L 70.867188 212.597656 Z M 35.433594 212.597656 \"/>\n",
       "<path style=\" stroke:none;fill-rule:nonzero;fill:rgb(100%,94.898987%,0%);fill-opacity:0.0164317;\" d=\"M 212.601562 141.730469 L 212.601562 106.296875 L 248.035156 106.296875 L 248.035156 141.730469 Z M 212.601562 141.730469 \"/>\n",
       "<path style=\" stroke:none;fill-rule:nonzero;fill:rgb(100%,94.898987%,0%);fill-opacity:0.0148324;\" d=\"M 212.601562 177.164062 L 212.601562 141.730469 L 248.035156 141.730469 L 248.035156 177.164062 Z M 212.601562 177.164062 \"/>\n",
       "<g clip-path=\"url(#clip-1495312568602781-9)\" clip-rule=\"nonzero\">\n",
       "<path style=\" stroke:none;fill-rule:nonzero;fill:rgb(100%,94.898987%,0%);fill-opacity:0.112872;\" d=\"M 283.46875 248.03125 L 283.46875 212.597656 L 318.902344 212.597656 L 318.902344 248.03125 Z M 283.46875 248.03125 \"/>\n",
       "</g>\n",
       "<path style=\" stroke:none;fill-rule:nonzero;fill:rgb(100%,94.898987%,0%);fill-opacity:0.0304959;\" d=\"M 177.167969 70.863281 L 177.167969 35.429688 L 212.601562 35.429688 L 212.601562 70.863281 Z M 177.167969 70.863281 \"/>\n",
       "<path style=\" stroke:none;fill-rule:nonzero;fill:rgb(100%,94.898987%,0%);fill-opacity:0.169882;\" d=\"M 70.867188 35.429688 L 70.867188 -0.00390625 L 106.300781 -0.00390625 L 106.300781 35.429688 Z M 70.867188 35.429688 \"/>\n",
       "<path style=\" stroke:none;fill-rule:nonzero;fill:rgb(100%,94.898987%,0%);fill-opacity:0.0109545;\" d=\"M 248.035156 141.730469 L 248.035156 106.296875 L 283.46875 106.296875 L 283.46875 141.730469 Z M 248.035156 141.730469 \"/>\n",
       "<path style=\" stroke:none;fill-rule:nonzero;fill:rgb(100%,94.898987%,0%);fill-opacity:0.0623699;\" d=\"M 177.167969 35.429688 L 177.167969 -0.00390625 L 212.601562 -0.00390625 L 212.601562 35.429688 Z M 177.167969 35.429688 \"/>\n",
       "<path style=\" stroke:none;fill-rule:nonzero;fill:rgb(100%,94.898987%,0%);fill-opacity:0.0303315;\" d=\"M 35.433594 177.164062 L 35.433594 141.730469 L 70.867188 141.730469 L 70.867188 177.164062 Z M 35.433594 177.164062 \"/>\n",
       "<path style=\" stroke:none;fill-rule:nonzero;fill:rgb(100%,94.898987%,0%);fill-opacity:0.0178885;\" d=\"M 177.167969 141.730469 L 177.167969 106.296875 L 212.601562 106.296875 L 212.601562 141.730469 Z M 177.167969 141.730469 \"/>\n",
       "<g clip-path=\"url(#clip-1495312568602781-10)\" clip-rule=\"nonzero\">\n",
       "<path style=\" stroke:none;fill-rule:nonzero;fill:rgb(100%,94.898987%,0%);fill-opacity:0.499159;\" d=\"M 0 248.03125 L 0 212.597656 L 35.433594 212.597656 L 35.433594 248.03125 Z M 0 248.03125 \"/>\n",
       "</g>\n",
       "<path style=\" stroke:none;fill-rule:nonzero;fill:rgb(100%,94.898987%,0%);fill-opacity:0.02;\" d=\"M 70.867188 177.164062 L 70.867188 141.730469 L 106.300781 141.730469 L 106.300781 177.164062 Z M 70.867188 177.164062 \"/>\n",
       "<g clip-path=\"url(#clip-1495312568602781-11)\" clip-rule=\"nonzero\">\n",
       "<path style=\" stroke:none;fill-rule:nonzero;fill:rgb(100%,94.898987%,0%);fill-opacity:0.144291;\" d=\"M 248.035156 248.03125 L 248.035156 212.597656 L 283.46875 212.597656 L 283.46875 248.03125 Z M 248.035156 248.03125 \"/>\n",
       "</g>\n",
       "<path style=\" stroke:none;fill-rule:nonzero;fill:rgb(100%,94.898987%,0%);fill-opacity:0.03;\" d=\"M 70.867188 106.296875 L 70.867188 70.863281 L 106.300781 70.863281 L 106.300781 106.296875 Z M 70.867188 106.296875 \"/>\n",
       "<g clip-path=\"url(#clip-1495312568602781-12)\" clip-rule=\"nonzero\">\n",
       "<path style=\" stroke:none;fill-rule:nonzero;fill:rgb(100%,94.898987%,0%);fill-opacity:0.134425;\" d=\"M 212.601562 248.03125 L 212.601562 212.597656 L 248.035156 212.597656 L 248.035156 248.03125 Z M 212.601562 248.03125 \"/>\n",
       "</g>\n",
       "<g clip-path=\"url(#clip-1495312568602781-13)\" clip-rule=\"nonzero\">\n",
       "<path style=\" stroke:none;fill-rule:nonzero;fill:rgb(100%,94.898987%,0%);fill-opacity:0.0181659;\" d=\"M 354.335938 177.164062 L 354.335938 141.730469 L 389.769531 141.730469 L 389.769531 177.164062 Z M 354.335938 177.164062 \"/>\n",
       "</g>\n",
       "<path style=\" stroke:none;fill-rule:nonzero;fill:rgb(100%,94.898987%,0%);fill-opacity:0.00447214;\" d=\"M 283.46875 70.863281 L 283.46875 35.429688 L 318.902344 35.429688 L 318.902344 70.863281 Z M 283.46875 70.863281 \"/>\n",
       "<path style=\" stroke:none;fill-rule:nonzero;fill:rgb(100%,94.898987%,0%);fill-opacity:0.0272029;\" d=\"M 106.300781 106.296875 L 106.300781 70.863281 L 141.734375 70.863281 L 141.734375 106.296875 Z M 106.300781 106.296875 \"/>\n",
       "<path style=\" stroke:none;fill-rule:nonzero;fill:rgb(100%,94.898987%,0%);fill-opacity:0.0202485;\" d=\"M 141.734375 141.730469 L 141.734375 106.296875 L 177.167969 106.296875 L 177.167969 141.730469 Z M 141.734375 141.730469 \"/>\n",
       "<path style=\" stroke:none;fill-rule:nonzero;fill:rgb(100%,94.898987%,0%);fill-opacity:0.164317;\" d=\"M 0 212.597656 L 0 177.164062 L 35.433594 177.164062 L 35.433594 212.597656 Z M 0 212.597656 \"/>\n",
       "<path style=\" stroke:none;fill-rule:nonzero;fill:rgb(100%,94.898987%,0%);fill-opacity:0.0600833;\" d=\"M 212.601562 35.429688 L 212.601562 -0.00390625 L 248.035156 -0.00390625 L 248.035156 35.429688 Z M 212.601562 35.429688 \"/>\n",
       "<g clip-path=\"url(#clip-1495312568602781-14)\" clip-rule=\"nonzero\">\n",
       "<path style=\" stroke:none;fill-rule:nonzero;fill:rgb(100%,94.898987%,0%);fill-opacity:0.139463;\" d=\"M 106.300781 248.03125 L 106.300781 212.597656 L 141.734375 212.597656 L 141.734375 248.03125 Z M 106.300781 248.03125 \"/>\n",
       "</g>\n",
       "<path style=\" stroke:none;fill-rule:nonzero;fill:rgb(100%,94.898987%,0%);fill-opacity:0.0397492;\" d=\"M 248.035156 35.429688 L 248.035156 -0.00390625 L 283.46875 -0.00390625 L 283.46875 35.429688 Z M 248.035156 35.429688 \"/>\n",
       "<path style=\" stroke:none;fill-rule:nonzero;fill:rgb(100%,94.898987%,0%);fill-opacity:0.00894427;\" d=\"M 248.035156 106.296875 L 248.035156 70.863281 L 283.46875 70.863281 L 283.46875 106.296875 Z M 248.035156 106.296875 \"/>\n",
       "<path style=\" stroke:none;fill-rule:nonzero;fill:rgb(100%,94.898987%,0%);fill-opacity:0.135978;\" d=\"M 141.734375 35.429688 L 141.734375 -0.00390625 L 177.167969 -0.00390625 L 177.167969 35.429688 Z M 141.734375 35.429688 \"/>\n",
       "<path style=\" stroke:none;fill-rule:nonzero;fill:rgb(100%,94.898987%,0%);fill-opacity:0.0083666;\" d=\"M 177.167969 212.597656 L 177.167969 177.164062 L 212.601562 177.164062 L 212.601562 212.597656 Z M 177.167969 212.597656 \"/>\n",
       "<g clip-path=\"url(#clip-1495312568602781-15)\" clip-rule=\"nonzero\">\n",
       "<path style=\" stroke:none;fill-rule:nonzero;fill:rgb(100%,94.898987%,0%);fill-opacity:0.013784;\" d=\"M 354.335938 141.730469 L 354.335938 106.296875 L 389.769531 106.296875 L 389.769531 141.730469 Z M 354.335938 141.730469 \"/>\n",
       "</g>\n",
       "<g clip-path=\"url(#clip-1495312568602781-16)\" clip-rule=\"nonzero\">\n",
       "<path style=\" stroke:none;fill-rule:nonzero;fill:rgb(100%,94.898987%,0%);fill-opacity:0.0370135;\" d=\"M 354.335938 212.597656 L 354.335938 177.164062 L 389.769531 177.164062 L 389.769531 212.597656 Z M 354.335938 212.597656 \"/>\n",
       "</g>\n",
       "<path style=\" stroke:none;fill-rule:nonzero;fill:rgb(100%,94.898987%,0%);fill-opacity:0.0184391;\" d=\"M 177.167969 106.296875 L 177.167969 70.863281 L 212.601562 70.863281 L 212.601562 106.296875 Z M 177.167969 106.296875 \"/>\n",
       "<path style=\" stroke:none;fill-rule:nonzero;fill:rgb(100%,94.898987%,0%);fill-opacity:0.0432435;\" d=\"M 70.867188 70.863281 L 70.867188 35.429688 L 106.300781 35.429688 L 106.300781 70.863281 Z M 70.867188 70.863281 \"/>\n",
       "<path style=\" stroke:none;fill-rule:nonzero;fill:rgb(100%,94.898987%,0%);fill-opacity:0.0223607;\" d=\"M 177.167969 177.164062 L 177.167969 141.730469 L 212.601562 141.730469 L 212.601562 177.164062 Z M 177.167969 177.164062 \"/>\n",
       "<path style=\" stroke:none;fill-rule:nonzero;fill:rgb(100%,94.898987%,0%);fill-opacity:0.139642;\" d=\"M 106.300781 35.429688 L 106.300781 -0.00390625 L 141.734375 -0.00390625 L 141.734375 35.429688 Z M 106.300781 35.429688 \"/>\n",
       "<path style=\" stroke:none;fill-rule:nonzero;fill:rgb(100%,94.898987%,0%);fill-opacity:0.140819;\" d=\"M 0 106.296875 L 0 70.863281 L 35.433594 70.863281 L 35.433594 106.296875 Z M 0 106.296875 \"/>\n",
       "<g clip-path=\"url(#clip-1495312568602781-17)\" clip-rule=\"nonzero\">\n",
       "<path style=\" stroke:none;fill-rule:nonzero;fill:rgb(100%,94.898987%,0%);fill-opacity:0.0197484;\" d=\"M 354.335938 70.863281 L 354.335938 35.429688 L 389.769531 35.429688 L 389.769531 70.863281 Z M 354.335938 70.863281 \"/>\n",
       "</g>\n",
       "<path style=\" stroke:none;fill-rule:nonzero;fill:rgb(100%,50%,0%);fill-opacity:0.5;\" d=\"M 0 35.429688 L 0 -0.00390625 L 35.433594 -0.00390625 L 35.433594 35.429688 Z M 0 35.429688 \"/>\n",
       "<path style=\" stroke:none;fill-rule:nonzero;fill:rgb(0%,100%,0%);fill-opacity:0.5;\" d=\"M 318.902344 212.597656 L 318.902344 177.164062 L 354.335938 177.164062 L 354.335938 212.597656 Z M 318.902344 212.597656 \"/>\n",
       "<path style=\"fill:none;stroke-width:0.3985;stroke-linecap:butt;stroke-linejoin:miter;stroke:rgb(100%,0%,0%);stroke-opacity:1;stroke-dasharray:2.98883,2.98883;stroke-miterlimit:10;\" d=\"M 336.617188 70.866938 L 336.617188 141.734125 \" transform=\"matrix(1,0,0,-1,0,248.031)\"/>\n",
       "<g clip-path=\"url(#clip-1495312568602781-18)\" clip-rule=\"nonzero\">\n",
       "<path style=\"fill:none;stroke-width:0.3985;stroke-linecap:butt;stroke-linejoin:miter;stroke:rgb(100%,0%,0%);stroke-opacity:1;stroke-dasharray:2.98883,2.98883;stroke-miterlimit:10;\" d=\"M 336.617188 35.433344 L 336.617188 -106.301031 \" transform=\"matrix(1,0,0,-1,0,248.031)\"/>\n",
       "</g>\n",
       "<g clip-path=\"url(#clip-1495312568602781-19)\" clip-rule=\"nonzero\">\n",
       "<path style=\"fill:none;stroke-width:0.3985;stroke-linecap:butt;stroke-linejoin:miter;stroke:rgb(100%,0%,0%);stroke-opacity:1;stroke-dasharray:2.98883,2.98883;stroke-miterlimit:10;\" d=\"M 354.335938 53.152094 L 460.636719 53.152094 \" transform=\"matrix(1,0,0,-1,0,248.031)\"/>\n",
       "</g>\n",
       "<path style=\"fill:none;stroke-width:0.3985;stroke-linecap:butt;stroke-linejoin:miter;stroke:rgb(100%,0%,0%);stroke-opacity:1;stroke-dasharray:2.98883,2.98883;stroke-miterlimit:10;\" d=\"M 318.902344 53.152094 L 0 53.152094 \" transform=\"matrix(1,0,0,-1,0,248.031)\"/>\n",
       "<g clip-path=\"url(#clip-1495312568602781-20)\" clip-rule=\"nonzero\">\n",
       "<path style=\"fill:none;stroke-width:0.3985;stroke-linecap:butt;stroke-linejoin:miter;stroke:rgb(100%,0%,0%);stroke-opacity:1;stroke-dasharray:2.98883,2.98883;stroke-miterlimit:10;\" d=\"M 354.335938 70.866938 L 454.554688 171.089594 \" transform=\"matrix(1,0,0,-1,0,248.031)\"/>\n",
       "</g>\n",
       "<g clip-path=\"url(#clip-1495312568602781-21)\" clip-rule=\"nonzero\">\n",
       "<path style=\"fill:none;stroke-width:0.3985;stroke-linecap:butt;stroke-linejoin:miter;stroke:rgb(100%,0%,0%);stroke-opacity:1;stroke-dasharray:2.98883,2.98883;stroke-miterlimit:10;\" d=\"M 354.335938 35.433344 L 504.667969 -114.898687 \" transform=\"matrix(1,0,0,-1,0,248.031)\"/>\n",
       "</g>\n",
       "<g clip-path=\"url(#clip-1495312568602781-22)\" clip-rule=\"nonzero\">\n",
       "<path style=\"fill:none;stroke-width:0.3985;stroke-linecap:butt;stroke-linejoin:miter;stroke:rgb(100%,0%,0%);stroke-opacity:1;stroke-dasharray:2.98883,2.98883;stroke-miterlimit:10;\" d=\"M 318.902344 35.433344 L 268.789062 -14.676031 \" transform=\"matrix(1,0,0,-1,0,248.031)\"/>\n",
       "</g>\n",
       "<path style=\"fill:none;stroke-width:0.3985;stroke-linecap:butt;stroke-linejoin:miter;stroke:rgb(100%,0%,0%);stroke-opacity:1;stroke-dasharray:2.98883,2.98883;stroke-miterlimit:10;\" d=\"M 318.902344 70.866938 L 218.679688 171.089594 \" transform=\"matrix(1,0,0,-1,0,248.031)\"/>\n",
       "<g style=\"fill:rgb(0%,0%,0%);fill-opacity:1;\">\n",
       "  <use xlink:href=\"#glyph-1495312568602781-0-1\" x=\"322.417\" y=\"209.078\"/>\n",
       "  <use xlink:href=\"#glyph-1495312568602781-0-2\" x=\"326.346265\" y=\"209.078\"/>\n",
       "  <use xlink:href=\"#glyph-1495312568602781-0-3\" x=\"331.327585\" y=\"209.078\"/>\n",
       "  <use xlink:href=\"#glyph-1495312568602781-0-4\" x=\"336.862828\" y=\"209.078\"/>\n",
       "  <use xlink:href=\"#glyph-1495312568602781-0-5\" x=\"340.737299\" y=\"209.078\"/>\n",
       "  <use xlink:href=\"#glyph-1495312568602781-0-6\" x=\"346.272541\" y=\"209.078\"/>\n",
       "  <use xlink:href=\"#glyph-1495312568602781-0-7\" x=\"350.699939\" y=\"209.078\"/>\n",
       "  <use xlink:href=\"#glyph-1495312568602781-0-1\" x=\"355.681259\" y=\"209.078\"/>\n",
       "  <use xlink:href=\"#glyph-1495312568602781-0-4\" x=\"359.610524\" y=\"209.078\"/>\n",
       "</g>\n",
       "<path style=\"fill:none;stroke-width:0.3985;stroke-linecap:butt;stroke-linejoin:miter;stroke:rgb(0%,0%,0%);stroke-opacity:1;stroke-miterlimit:10;\" d=\"M 0 -0.00025 L 389.769531 -0.00025 M 0 35.433344 L 389.769531 35.433344 M 0 70.866938 L 389.769531 70.866938 M 0 106.300531 L 389.769531 106.300531 M 0 141.734125 L 389.769531 141.734125 M 0 177.167719 L 389.769531 177.167719 M 0 212.601313 L 389.769531 212.601313 M 0 248.023188 L 389.769531 248.023188 M 0 -0.00025 L 0 248.034906 M 35.433594 -0.00025 L 35.433594 248.034906 M 70.867188 -0.00025 L 70.867188 248.034906 M 106.300781 -0.00025 L 106.300781 248.034906 M 141.734375 -0.00025 L 141.734375 248.034906 M 177.167969 -0.00025 L 177.167969 248.034906 M 212.601562 -0.00025 L 212.601562 248.034906 M 248.035156 -0.00025 L 248.035156 248.034906 M 283.46875 -0.00025 L 283.46875 248.034906 M 318.902344 -0.00025 L 318.902344 248.034906 M 354.335938 -0.00025 L 354.335938 248.034906 M 389.757812 -0.00025 L 389.757812 248.034906 \" transform=\"matrix(1,0,0,-1,0,248.031)\"/>\n",
       "</g>\n",
       "</svg>\n",
       "\n"
      ],
      "text/plain": [
       "LaserTag.LaserTagVis(LaserTag.LaserTagPOMDP{StaticArrays.MVector{8,Int64}}\n",
       "  tag_reward: Float64 10.0\n",
       "  step_cost: Float64 1.0\n",
       "  discount: Float64 0.95\n",
       "  floor: LaserTag.Floor\n",
       "  reading_std: Float64 2.5\n",
       "  obstacles: Set{StaticArrays.SVector{2,Int64}}\n",
       "  robot_init: StaticArrays.SVector{2,Int64}\n",
       "  dcache: LaserTag.LTDistanceCache\n",
       "  cdf: Nullable{LaserTag.ReadingCDF}\n",
       ",Nullable{Any}(6),Nullable{Any}(),Nullable{Any}(LaserTag.LTState([10,2],[1,7],false)),Nullable{Any}([2,4,3,9,4,6,2,4]),Nullable{Any}(ParticleFilters.ParticleCollection{LaserTag.LTState}(LaserTag.LTState[LaserTag.LTState([10,2],[1,7],false),LaserTag.LTState([10,2],[11,1],false),LaserTag.LTState([10,2],[1,4],false),LaserTag.LTState([10,2],[2,6],false),LaserTag.LTState([10,2],[9,1],false),LaserTag.LTState([10,2],[1,1],false),LaserTag.LTState([10,2],[1,1],false),LaserTag.LTState([10,2],[1,1],false),LaserTag.LTState([10,2],[1,1],false),LaserTag.LTState([10,2],[1,7],false)  …  LaserTag.LTState([10,2],[2,2],false),LaserTag.LTState([10,2],[5,7],false),LaserTag.LTState([10,2],[3,7],false),LaserTag.LTState([10,2],[3,7],false),LaserTag.LTState([10,2],[4,7],false),LaserTag.LTState([10,2],[1,5],false),LaserTag.LTState([10,2],[1,7],false),LaserTag.LTState([10,2],[1,1],false),LaserTag.LTState([10,2],[1,7],false),LaserTag.LTState([10,2],[2,7],false)],Dict(LaserTag.LTState([10,2],[8,7],false)=>0.00158,LaserTag.LTState([10,2],[11,7],false)=>0.00039,LaserTag.LTState([10,2],[3,6],false)=>0.00187,LaserTag.LTState([10,2],[1,3],false)=>0.01776,LaserTag.LTState([10,2],[3,5],false)=>0.0009,LaserTag.LTState([10,2],[6,4],false)=>0.00032,LaserTag.LTState([10,2],[8,4],false)=>0.00012,LaserTag.LTState([10,2],[8,1],false)=>0.02082,LaserTag.LTState([10,2],[7,6],false)=>0.00012,LaserTag.LTState([10,2],[6,6],false)=>0.00093…))))"
      ]
     },
     "execution_count": 6,
     "metadata": {
      "comm_id": "d503b611-0672-4a71-a91b-2a78d834db63",
      "reactive": true
     },
     "output_type": "execute_result"
    }
   ],
   "source": [
    "@manipulate for i in 1:ns\n",
    "    s = state_hist(hist)[i+1]\n",
    "    o = observation_hist(hist)[i]\n",
    "    a = action_hist(hist)[i+1]\n",
    "    b = belief_hist(hist)[i+1]\n",
    "    LaserTagVis(p, s=s, a=a, o=o, b=b)\n",
    "end"
   ]
  },
  {
   "cell_type": "code",
   "execution_count": 4,
   "metadata": {
    "collapsed": false
   },
   "outputs": [
    {
     "data": {
      "text/plain": [
       "0"
      ]
     },
     "execution_count": 4,
     "metadata": {},
     "output_type": "execute_result"
    }
   ],
   "source": [
    "i=0"
   ]
  },
  {
   "cell_type": "code",
   "execution_count": 7,
   "metadata": {
    "collapsed": false
   },
   "outputs": [
    {
     "ename": "LoadError",
     "evalue": "BoundsError: attempt to access 50-element Array{Int64,1} at index [51]",
     "output_type": "error",
     "traceback": [
      "BoundsError: attempt to access 50-element Array{Int64,1} at index [51]",
      "",
      " in getindex(::Array{Int64,1}, ::Int64) at ./array.jl:386"
     ]
    }
   ],
   "source": [
    "i+=1\n",
    "s = state_hist(hist)[i+1]\n",
    "o = observation_hist(hist)[i]\n",
    "a = action_hist(hist)[i+1]\n",
    "b = belief_hist(hist)[i+1]\n",
    "r = reward_hist(hist)[i+1]\n",
    "LaserTagVis(p, s=s, a=a, o=o, b=b, r=r)"
   ]
  },
  {
   "cell_type": "code",
   "execution_count": 6,
   "metadata": {
    "collapsed": false
   },
   "outputs": [
    {
     "name": "stdout",
     "output_type": "stream",
     "text": [
      "................................................."
     ]
    },
    {
     "data": {
      "text/plain": [
       "\"/tmp/lasertag.gif\""
      ]
     },
     "execution_count": 6,
     "metadata": {},
     "output_type": "execute_result"
    }
   ],
   "source": [
    "using Reel\n",
    "frames = Frames(MIME(\"image/png\"), fps=2)\n",
    "for i in 1:ns\n",
    "    s = state_hist(hist)[i+1]\n",
    "    o = observation_hist(hist)[i]\n",
    "    a = action_hist(hist)[i+1]\n",
    "    b = belief_hist(hist)[i+1]\n",
    "    r = reward_hist(hist)[i+1]\n",
    "    push!(frames, LaserTagVis(p, s=s, a=a, o=o, b=b, r=r))\n",
    "    print(\".\")\n",
    "end\n",
    "\n",
    "write(\"/tmp/lasertag.gif\", frames)"
   ]
  },
  {
   "cell_type": "code",
   "execution_count": null,
   "metadata": {
    "collapsed": true
   },
   "outputs": [],
   "source": []
  }
 ],
 "metadata": {
  "anaconda-cloud": {},
  "kernelspec": {
   "display_name": "Julia 0.5.1",
   "language": "julia",
   "name": "julia-0.5"
  },
  "language_info": {
   "file_extension": ".jl",
   "mimetype": "application/julia",
   "name": "julia",
   "version": "0.5.1"
  },
  "widgets": {
   "state": {
    "40adce56-10b2-4b66-97bc-6c321e1f8cd4": {
     "views": [
      {
       "cell_index": 2
      }
     ]
    }
   },
   "version": "1.2.0"
  }
 },
 "nbformat": 4,
 "nbformat_minor": 1
}

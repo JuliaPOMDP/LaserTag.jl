{
 "cells": [
  {
   "cell_type": "code",
   "execution_count": 1,
   "metadata": {
    "collapsed": false
   },
   "outputs": [
    {
     "data": {
      "text/html": [
       "<div id=\"interact-js-shim\">\n",
       "    <script charset=\"utf-8\">\n",
       "(function (IPython, $, _, MathJax) {\n",
       "    $.event.special.destroyed = {\n",
       "\tremove: function(o) {\n",
       "\t    if (o.handler) {\n",
       "\t\to.handler.apply(this, arguments)\n",
       "\t    }\n",
       "\t}\n",
       "    }\n",
       "\n",
       "    var OutputArea = IPython.version >= \"4.0.0\" ? require(\"notebook/js/outputarea\").OutputArea : IPython.OutputArea;\n",
       "\n",
       "    var redrawValue = function (container, type, val) {\n",
       "\tvar selector = $(\"<div/>\");\n",
       "\tvar oa = new OutputArea(_.extend(selector, {\n",
       "\t    selector: selector,\n",
       "\t    prompt_area: true,\n",
       "\t    events: IPython.events,\n",
       "\t    keyboard_manager: IPython.keyboard_manager\n",
       "\t})); // Hack to work with IPython 2.1.0\n",
       "\n",
       "\tswitch (type) {\n",
       "\tcase \"image/png\":\n",
       "            var _src = 'data:' + type + ';base64,' + val;\n",
       "\t    $(container).find(\"img\").attr('src', _src);\n",
       "\t    break;\n",
       "\tcase \"text/latex\":\n",
       "\t\tif (MathJax){\n",
       "\t\t\tvar math = MathJax.Hub.getAllJax(container)[0];\n",
       "\t\t\tMathJax.Hub.Queue([\"Text\", math, val.replace(/^\\${1,2}|\\${1,2}$/g, '')]);\n",
       "\t\t\tbreak;\n",
       "\t\t}\n",
       "\tdefault:\n",
       "\t    var toinsert = OutputArea.append_map[type].apply(\n",
       "\t\toa, [val, {}, selector]\n",
       "\t    );\n",
       "\t    $(container).empty().append(toinsert.contents());\n",
       "\t    selector.remove();\n",
       "\t}\n",
       "    }\n",
       "\n",
       "\n",
       "    $(document).ready(function() {\n",
       "\tfunction initComm(evt, data) {\n",
       "\t    var comm_manager = data.kernel.comm_manager;\n",
       "        //_.extend(comm_manager.targets, require(\"widgets/js/widget\"))\n",
       "\t    comm_manager.register_target(\"Signal\", function (comm) {\n",
       "            comm.on_msg(function (msg) {\n",
       "                var val = msg.content.data.value;\n",
       "                $(\".signal-\" + comm.comm_id).each(function() {\n",
       "                var type = $(this).data(\"type\");\n",
       "                if (typeof(val[type]) !== \"undefined\" && val[type] !== null) {\n",
       "                    redrawValue(this, type, val[type], type);\n",
       "                }\n",
       "                });\n",
       "                delete val;\n",
       "                delete msg.content.data.value;\n",
       "            });\n",
       "\t    });\n",
       "\n",
       "\t    // coordingate with Comm and redraw Signals\n",
       "\t    // XXX: Test using Reactive here to improve performance\n",
       "\t    $([IPython.events]).on(\n",
       "\t\t'output_appended.OutputArea', function (event, type, value, md, toinsert) {\n",
       "\t\t    if (md && md.reactive) {\n",
       "                // console.log(md.comm_id);\n",
       "                toinsert.addClass(\"signal-\" + md.comm_id);\n",
       "                toinsert.data(\"type\", type);\n",
       "                // Signal back indicating the mimetype required\n",
       "                var comm_manager = IPython.notebook.kernel.comm_manager;\n",
       "                var comm = comm_manager.comms[md.comm_id];\n",
       "                comm.then(function (c) {\n",
       "                    c.send({action: \"subscribe_mime\",\n",
       "                       mime: type});\n",
       "                    toinsert.bind(\"destroyed\", function() {\n",
       "                        c.send({action: \"unsubscribe_mime\",\n",
       "                               mime: type});\n",
       "                    });\n",
       "                })\n",
       "\t\t    }\n",
       "\t    });\n",
       "\t}\n",
       "\n",
       "\ttry {\n",
       "\t    // try to initialize right away. otherwise, wait on the status_started event.\n",
       "\t    initComm(undefined, IPython.notebook);\n",
       "\t} catch (e) {\n",
       "\t    $([IPython.events]).on('kernel_created.Kernel kernel_created.Session', initComm);\n",
       "\t}\n",
       "    });\n",
       "})(IPython, jQuery, _, MathJax);\n",
       "</script>\n",
       "    <script>\n",
       "        window.interactLoadedFlag = true\n",
       "       $(\"#interact-js-shim\").bind(\"destroyed\", function () {\n",
       "           if (window.interactLoadedFlag) {\n",
       "               console.warn(\"JavaScript required by Interact will be removed if you remove this cell or run using Interact more than once.\")\n",
       "           }\n",
       "       })\n",
       "       $([IPython.events]).on(\"kernel_starting.Kernel kernel_restarting.Kernel\", function () { window.interactLoadedFlag = false })\n",
       "   </script>\n",
       "</div>"
      ]
     },
     "metadata": {},
     "output_type": "display_data"
    }
   ],
   "source": [
    "using POMDPs\n",
    "using LaserTag\n",
    "using ParticleFilters\n",
    "using POMDPToolbox\n",
    "using Interact"
   ]
  },
  {
   "cell_type": "code",
   "execution_count": 2,
   "metadata": {
    "collapsed": false
   },
   "outputs": [
    {
     "data": {
      "image/png": "[encoded data removed]",
      "image/svg+xml": [
       "<?xml version=\"1.0\" encoding=\"UTF-8\"?>\n",
       "<svg xmlns=\"http://www.w3.org/2000/svg\" xmlns:xlink=\"http://www.w3.org/1999/xlink\" width=\"389.764pt\" height=\"248.031pt\" viewBox=\"0 0 389.764 248.031\" version=\"1.1\">\n",
       "<defs>\n",
       "<clipPath id=\"clip-1495312568602737-1\">\n",
       "  <path d=\"M 212 212 L 249 212 L 249 248.03125 L 212 248.03125 Z M 212 212 \"/>\n",
       "</clipPath>\n",
       "<clipPath id=\"clip-1495312568602737-2\">\n",
       "  <path d=\"M 354 35 L 389.765625 35 L 389.765625 71 L 354 71 Z M 354 35 \"/>\n",
       "</clipPath>\n",
       "<clipPath id=\"clip-1495312568602737-3\">\n",
       "  <path d=\"M 177 212 L 213 212 L 213 248.03125 L 177 248.03125 Z M 177 212 \"/>\n",
       "</clipPath>\n",
       "<clipPath id=\"clip-1495312568602737-4\">\n",
       "  <path d=\"M 354 70 L 389.765625 70 L 389.765625 107 L 354 107 Z M 354 70 \"/>\n",
       "</clipPath>\n",
       "<clipPath id=\"clip-1495312568602737-5\">\n",
       "  <path d=\"M 177 212 L 213 212 L 213 248.03125 L 177 248.03125 Z M 177 212 \"/>\n",
       "</clipPath>\n",
       "<clipPath id=\"clip-1495312568602737-6\">\n",
       "  <path d=\"M 354 212 L 389.765625 212 L 389.765625 248.03125 L 354 248.03125 Z M 354 212 \"/>\n",
       "</clipPath>\n",
       "<clipPath id=\"clip-1495312568602737-7\">\n",
       "  <path d=\"M 354 0 L 389.765625 0 L 389.765625 36 L 354 36 Z M 354 0 \"/>\n",
       "</clipPath>\n",
       "<clipPath id=\"clip-1495312568602737-8\">\n",
       "  <path d=\"M 35 212 L 71 212 L 71 248.03125 L 35 248.03125 Z M 35 212 \"/>\n",
       "</clipPath>\n",
       "<clipPath id=\"clip-1495312568602737-9\">\n",
       "  <path d=\"M 141 212 L 178 212 L 178 248.03125 L 141 248.03125 Z M 141 212 \"/>\n",
       "</clipPath>\n",
       "<clipPath id=\"clip-1495312568602737-10\">\n",
       "  <path d=\"M 70 212 L 107 212 L 107 248.03125 L 70 248.03125 Z M 70 212 \"/>\n",
       "</clipPath>\n",
       "<clipPath id=\"clip-1495312568602737-11\">\n",
       "  <path d=\"M 318 212 L 355 212 L 355 248.03125 L 318 248.03125 Z M 318 212 \"/>\n",
       "</clipPath>\n",
       "<clipPath id=\"clip-1495312568602737-12\">\n",
       "  <path d=\"M 283 212 L 319 212 L 319 248.03125 L 283 248.03125 Z M 283 212 \"/>\n",
       "</clipPath>\n",
       "<clipPath id=\"clip-1495312568602737-13\">\n",
       "  <path d=\"M 0 212 L 36 212 L 36 248.03125 L 0 248.03125 Z M 0 212 \"/>\n",
       "</clipPath>\n",
       "<clipPath id=\"clip-1495312568602737-14\">\n",
       "  <path d=\"M 248 212 L 284 212 L 284 248.03125 L 248 248.03125 Z M 248 212 \"/>\n",
       "</clipPath>\n",
       "<clipPath id=\"clip-1495312568602737-15\">\n",
       "  <path d=\"M 212 212 L 249 212 L 249 248.03125 L 212 248.03125 Z M 212 212 \"/>\n",
       "</clipPath>\n",
       "<clipPath id=\"clip-1495312568602737-16\">\n",
       "  <path d=\"M 354 141 L 389.765625 141 L 389.765625 178 L 354 178 Z M 354 141 \"/>\n",
       "</clipPath>\n",
       "<clipPath id=\"clip-1495312568602737-17\">\n",
       "  <path d=\"M 106 212 L 142 212 L 142 248.03125 L 106 248.03125 Z M 106 212 \"/>\n",
       "</clipPath>\n",
       "<clipPath id=\"clip-1495312568602737-18\">\n",
       "  <path d=\"M 354 106 L 389.765625 106 L 389.765625 142 L 354 142 Z M 354 106 \"/>\n",
       "</clipPath>\n",
       "<clipPath id=\"clip-1495312568602737-19\">\n",
       "  <path d=\"M 354 177 L 389.765625 177 L 389.765625 213 L 354 213 Z M 354 177 \"/>\n",
       "</clipPath>\n",
       "<clipPath id=\"clip-1495312568602737-20\">\n",
       "  <path d=\"M 354 35 L 389.765625 35 L 389.765625 71 L 354 71 Z M 354 35 \"/>\n",
       "</clipPath>\n",
       "</defs>\n",
       "<g id=\"surface1\">\n",
       "<g clip-path=\"url(#clip-1495312568602737-1)\" clip-rule=\"nonzero\">\n",
       "<path style=\" stroke:none;fill-rule:nonzero;fill:rgb(50%,50%,50%);fill-opacity:0.5;\" d=\"M 212.601562 248.03125 L 212.601562 212.597656 L 248.035156 212.597656 L 248.035156 248.03125 Z M 212.601562 248.03125 \"/>\n",
       "</g>\n",
       "<path style=\" stroke:none;fill-rule:nonzero;fill:rgb(50%,50%,50%);fill-opacity:0.5;\" d=\"M 212.601562 177.164062 L 212.601562 141.730469 L 248.035156 141.730469 L 248.035156 177.164062 Z M 212.601562 177.164062 \"/>\n",
       "<path style=\" stroke:none;fill-rule:nonzero;fill:rgb(50%,50%,50%);fill-opacity:0.5;\" d=\"M 106.300781 35.429688 L 106.300781 -0.00390625 L 141.734375 -0.00390625 L 141.734375 35.429688 Z M 106.300781 35.429688 \"/>\n",
       "<path style=\" stroke:none;fill-rule:nonzero;fill:rgb(50%,50%,50%);fill-opacity:0.5;\" d=\"M 0 106.296875 L 0 70.863281 L 35.433594 70.863281 L 35.433594 106.296875 Z M 0 106.296875 \"/>\n",
       "<g clip-path=\"url(#clip-1495312568602737-2)\" clip-rule=\"nonzero\">\n",
       "<path style=\" stroke:none;fill-rule:nonzero;fill:rgb(50%,50%,50%);fill-opacity:0.5;\" d=\"M 354.335938 70.863281 L 354.335938 35.429688 L 389.769531 35.429688 L 389.769531 70.863281 Z M 354.335938 70.863281 \"/>\n",
       "</g>\n",
       "<g clip-path=\"url(#clip-1495312568602737-3)\" clip-rule=\"nonzero\">\n",
       "<path style=\" stroke:none;fill-rule:nonzero;fill:rgb(50%,50%,50%);fill-opacity:0.5;\" d=\"M 177.167969 248.03125 L 177.167969 212.597656 L 212.601562 212.597656 L 212.601562 248.03125 Z M 177.167969 248.03125 \"/>\n",
       "</g>\n",
       "<path style=\" stroke:none;fill-rule:nonzero;fill:rgb(50%,50%,50%);fill-opacity:0.5;\" d=\"M 35.433594 141.730469 L 35.433594 106.296875 L 70.867188 106.296875 L 70.867188 141.730469 Z M 35.433594 141.730469 \"/>\n",
       "<path style=\" stroke:none;fill-rule:nonzero;fill:rgb(50%,50%,50%);fill-opacity:0.5;\" d=\"M 0 35.429688 L 0 -0.00390625 L 35.433594 -0.00390625 L 35.433594 35.429688 Z M 0 35.429688 \"/>\n",
       "<path style=\" stroke:none;fill-rule:nonzero;fill:rgb(100%,94.898987%,0%);fill-opacity:0.0894427;\" d=\"M 106.300781 141.730469 L 106.300781 106.296875 L 141.734375 106.296875 L 141.734375 141.730469 Z M 106.300781 141.730469 \"/>\n",
       "<path style=\" stroke:none;fill-rule:nonzero;fill:rgb(100%,94.898987%,0%);fill-opacity:0.0948683;\" d=\"M 318.902344 35.429688 L 318.902344 -0.00390625 L 354.335938 -0.00390625 L 354.335938 35.429688 Z M 318.902344 35.429688 \"/>\n",
       "<g clip-path=\"url(#clip-1495312568602737-4)\" clip-rule=\"nonzero\">\n",
       "<path style=\" stroke:none;fill-rule:nonzero;fill:rgb(100%,94.898987%,0%);fill-opacity:0.130384;\" d=\"M 354.335938 106.296875 L 354.335938 70.863281 L 389.769531 70.863281 L 389.769531 106.296875 Z M 354.335938 106.296875 \"/>\n",
       "</g>\n",
       "<path style=\" stroke:none;fill-rule:nonzero;fill:rgb(100%,94.898987%,0%);fill-opacity:0.13784;\" d=\"M 70.867188 212.597656 L 70.867188 177.164062 L 106.300781 177.164062 L 106.300781 212.597656 Z M 70.867188 212.597656 \"/>\n",
       "<g clip-path=\"url(#clip-1495312568602737-5)\" clip-rule=\"nonzero\">\n",
       "<path style=\" stroke:none;fill-rule:nonzero;fill:rgb(100%,94.898987%,0%);fill-opacity:0.118322;\" d=\"M 177.167969 248.03125 L 177.167969 212.597656 L 212.601562 212.597656 L 212.601562 248.03125 Z M 177.167969 248.03125 \"/>\n",
       "</g>\n",
       "<g clip-path=\"url(#clip-1495312568602737-6)\" clip-rule=\"nonzero\">\n",
       "<path style=\" stroke:none;fill-rule:nonzero;fill:rgb(100%,94.898987%,0%);fill-opacity:0.118322;\" d=\"M 354.335938 248.03125 L 354.335938 212.597656 L 389.769531 212.597656 L 389.769531 248.03125 Z M 354.335938 248.03125 \"/>\n",
       "</g>\n",
       "<path style=\" stroke:none;fill-rule:nonzero;fill:rgb(100%,94.898987%,0%);fill-opacity:0.0894427;\" d=\"M 35.433594 141.730469 L 35.433594 106.296875 L 70.867188 106.296875 L 70.867188 141.730469 Z M 35.433594 141.730469 \"/>\n",
       "<path style=\" stroke:none;fill-rule:nonzero;fill:rgb(100%,94.898987%,0%);fill-opacity:0.1;\" d=\"M 212.601562 106.296875 L 212.601562 70.863281 L 248.035156 70.863281 L 248.035156 106.296875 Z M 212.601562 106.296875 \"/>\n",
       "<path style=\" stroke:none;fill-rule:nonzero;fill:rgb(100%,94.898987%,0%);fill-opacity:0.0894427;\" d=\"M 0 35.429688 L 0 -0.00390625 L 35.433594 -0.00390625 L 35.433594 35.429688 Z M 0 35.429688 \"/>\n",
       "<path style=\" stroke:none;fill-rule:nonzero;fill:rgb(100%,94.898987%,0%);fill-opacity:0.118322;\" d=\"M 283.46875 212.597656 L 283.46875 177.164062 L 318.902344 177.164062 L 318.902344 212.597656 Z M 283.46875 212.597656 \"/>\n",
       "<path style=\" stroke:none;fill-rule:nonzero;fill:rgb(100%,94.898987%,0%);fill-opacity:0.144914;\" d=\"M 0 70.863281 L 0 35.429688 L 35.433594 35.429688 L 35.433594 70.863281 Z M 0 70.863281 \"/>\n",
       "<g clip-path=\"url(#clip-1495312568602737-7)\" clip-rule=\"nonzero\">\n",
       "<path style=\" stroke:none;fill-rule:nonzero;fill:rgb(100%,94.898987%,0%);fill-opacity:0.114018;\" d=\"M 354.335938 35.429688 L 354.335938 -0.00390625 L 389.769531 -0.00390625 L 389.769531 35.429688 Z M 354.335938 35.429688 \"/>\n",
       "</g>\n",
       "<path style=\" stroke:none;fill-rule:nonzero;fill:rgb(100%,94.898987%,0%);fill-opacity:0.0948683;\" d=\"M 248.035156 177.164062 L 248.035156 141.730469 L 283.46875 141.730469 L 283.46875 177.164062 Z M 248.035156 177.164062 \"/>\n",
       "<path style=\" stroke:none;fill-rule:nonzero;fill:rgb(100%,94.898987%,0%);fill-opacity:0.114018;\" d=\"M 106.300781 70.863281 L 106.300781 35.429688 L 141.734375 35.429688 L 141.734375 70.863281 Z M 106.300781 70.863281 \"/>\n",
       "<path style=\" stroke:none;fill-rule:nonzero;fill:rgb(100%,94.898987%,0%);fill-opacity:0.1;\" d=\"M 70.867188 141.730469 L 70.867188 106.296875 L 106.300781 106.296875 L 106.300781 141.730469 Z M 70.867188 141.730469 \"/>\n",
       "<path style=\" stroke:none;fill-rule:nonzero;fill:rgb(100%,94.898987%,0%);fill-opacity:0.109545;\" d=\"M 0 177.164062 L 0 141.730469 L 35.433594 141.730469 L 35.433594 177.164062 Z M 0 177.164062 \"/>\n",
       "<path style=\" stroke:none;fill-rule:nonzero;fill:rgb(100%,94.898987%,0%);fill-opacity:0.141421;\" d=\"M 35.433594 106.296875 L 35.433594 70.863281 L 70.867188 70.863281 L 70.867188 106.296875 Z M 35.433594 106.296875 \"/>\n",
       "<path style=\" stroke:none;fill-rule:nonzero;fill:rgb(100%,94.898987%,0%);fill-opacity:0.0894427;\" d=\"M 141.734375 212.597656 L 141.734375 177.164062 L 177.167969 177.164062 L 177.167969 212.597656 Z M 141.734375 212.597656 \"/>\n",
       "<g clip-path=\"url(#clip-1495312568602737-8)\" clip-rule=\"nonzero\">\n",
       "<path style=\" stroke:none;fill-rule:nonzero;fill:rgb(100%,94.898987%,0%);fill-opacity:0.109545;\" d=\"M 35.433594 248.03125 L 35.433594 212.597656 L 70.867188 212.597656 L 70.867188 248.03125 Z M 35.433594 248.03125 \"/>\n",
       "</g>\n",
       "<path style=\" stroke:none;fill-rule:nonzero;fill:rgb(100%,94.898987%,0%);fill-opacity:0.104881;\" d=\"M 0 141.730469 L 0 106.296875 L 35.433594 106.296875 L 35.433594 141.730469 Z M 0 141.730469 \"/>\n",
       "<g clip-path=\"url(#clip-1495312568602737-9)\" clip-rule=\"nonzero\">\n",
       "<path style=\" stroke:none;fill-rule:nonzero;fill:rgb(100%,94.898987%,0%);fill-opacity:0.083666;\" d=\"M 141.734375 248.03125 L 141.734375 212.597656 L 177.167969 212.597656 L 177.167969 248.03125 Z M 141.734375 248.03125 \"/>\n",
       "</g>\n",
       "<path style=\" stroke:none;fill-rule:nonzero;fill:rgb(100%,94.898987%,0%);fill-opacity:0.083666;\" d=\"M 248.035156 212.597656 L 248.035156 177.164062 L 283.46875 177.164062 L 283.46875 212.597656 Z M 248.035156 212.597656 \"/>\n",
       "<path style=\" stroke:none;fill-rule:nonzero;fill:rgb(100%,94.898987%,0%);fill-opacity:0.0948683;\" d=\"M 106.300781 212.597656 L 106.300781 177.164062 L 141.734375 177.164062 L 141.734375 212.597656 Z M 106.300781 212.597656 \"/>\n",
       "<path style=\" stroke:none;fill-rule:nonzero;fill:rgb(100%,94.898987%,0%);fill-opacity:0.1;\" d=\"M 141.734375 106.296875 L 141.734375 70.863281 L 177.167969 70.863281 L 177.167969 106.296875 Z M 141.734375 106.296875 \"/>\n",
       "<path style=\" stroke:none;fill-rule:nonzero;fill:rgb(100%,94.898987%,0%);fill-opacity:0.134164;\" d=\"M 141.734375 70.863281 L 141.734375 35.429688 L 177.167969 35.429688 L 177.167969 70.863281 Z M 141.734375 70.863281 \"/>\n",
       "<path style=\" stroke:none;fill-rule:nonzero;fill:rgb(100%,94.898987%,0%);fill-opacity:0.114018;\" d=\"M 212.601562 70.863281 L 212.601562 35.429688 L 248.035156 35.429688 L 248.035156 70.863281 Z M 212.601562 70.863281 \"/>\n",
       "<path style=\" stroke:none;fill-rule:nonzero;fill:rgb(100%,94.898987%,0%);fill-opacity:0.114018;\" d=\"M 35.433594 35.429688 L 35.433594 -0.00390625 L 70.867188 -0.00390625 L 70.867188 35.429688 Z M 35.433594 35.429688 \"/>\n",
       "<path style=\" stroke:none;fill-rule:nonzero;fill:rgb(100%,94.898987%,0%);fill-opacity:0.118322;\" d=\"M 106.300781 177.164062 L 106.300781 141.730469 L 141.734375 141.730469 L 141.734375 177.164062 Z M 106.300781 177.164062 \"/>\n",
       "<path style=\" stroke:none;fill-rule:nonzero;fill:rgb(100%,94.898987%,0%);fill-opacity:0.109545;\" d=\"M 318.902344 212.597656 L 318.902344 177.164062 L 354.335938 177.164062 L 354.335938 212.597656 Z M 318.902344 212.597656 \"/>\n",
       "<path style=\" stroke:none;fill-rule:nonzero;fill:rgb(100%,94.898987%,0%);fill-opacity:0.134164;\" d=\"M 141.734375 177.164062 L 141.734375 141.730469 L 177.167969 141.730469 L 177.167969 177.164062 Z M 141.734375 177.164062 \"/>\n",
       "<path style=\" stroke:none;fill-rule:nonzero;fill:rgb(100%,94.898987%,0%);fill-opacity:0.114018;\" d=\"M 212.601562 212.597656 L 212.601562 177.164062 L 248.035156 177.164062 L 248.035156 212.597656 Z M 212.601562 212.597656 \"/>\n",
       "<path style=\" stroke:none;fill-rule:nonzero;fill:rgb(100%,94.898987%,0%);fill-opacity:0.109545;\" d=\"M 35.433594 70.863281 L 35.433594 35.429688 L 70.867188 35.429688 L 70.867188 70.863281 Z M 35.433594 70.863281 \"/>\n",
       "<path style=\" stroke:none;fill-rule:nonzero;fill:rgb(100%,94.898987%,0%);fill-opacity:0.114018;\" d=\"M 248.035156 70.863281 L 248.035156 35.429688 L 283.46875 35.429688 L 283.46875 70.863281 Z M 248.035156 70.863281 \"/>\n",
       "<path style=\" stroke:none;fill-rule:nonzero;fill:rgb(100%,94.898987%,0%);fill-opacity:0.104881;\" d=\"M 283.46875 35.429688 L 283.46875 -0.00390625 L 318.902344 -0.00390625 L 318.902344 35.429688 Z M 283.46875 35.429688 \"/>\n",
       "<g clip-path=\"url(#clip-1495312568602737-10)\" clip-rule=\"nonzero\">\n",
       "<path style=\" stroke:none;fill-rule:nonzero;fill:rgb(100%,94.898987%,0%);fill-opacity:0.1;\" d=\"M 70.867188 248.03125 L 70.867188 212.597656 L 106.300781 212.597656 L 106.300781 248.03125 Z M 70.867188 248.03125 \"/>\n",
       "</g>\n",
       "<g clip-path=\"url(#clip-1495312568602737-11)\" clip-rule=\"nonzero\">\n",
       "<path style=\" stroke:none;fill-rule:nonzero;fill:rgb(100%,94.898987%,0%);fill-opacity:0.1;\" d=\"M 318.902344 248.03125 L 318.902344 212.597656 L 354.335938 212.597656 L 354.335938 248.03125 Z M 318.902344 248.03125 \"/>\n",
       "</g>\n",
       "<path style=\" stroke:none;fill-rule:nonzero;fill:rgb(100%,94.898987%,0%);fill-opacity:0.118322;\" d=\"M 35.433594 212.597656 L 35.433594 177.164062 L 70.867188 177.164062 L 70.867188 212.597656 Z M 35.433594 212.597656 \"/>\n",
       "<path style=\" stroke:none;fill-rule:nonzero;fill:rgb(100%,94.898987%,0%);fill-opacity:0.122474;\" d=\"M 212.601562 141.730469 L 212.601562 106.296875 L 248.035156 106.296875 L 248.035156 141.730469 Z M 212.601562 141.730469 \"/>\n",
       "<path style=\" stroke:none;fill-rule:nonzero;fill:rgb(100%,94.898987%,0%);fill-opacity:0.0894427;\" d=\"M 283.46875 141.730469 L 283.46875 106.296875 L 318.902344 106.296875 L 318.902344 141.730469 Z M 283.46875 141.730469 \"/>\n",
       "<path style=\" stroke:none;fill-rule:nonzero;fill:rgb(100%,94.898987%,0%);fill-opacity:0.126491;\" d=\"M 212.601562 177.164062 L 212.601562 141.730469 L 248.035156 141.730469 L 248.035156 177.164062 Z M 212.601562 177.164062 \"/>\n",
       "<g clip-path=\"url(#clip-1495312568602737-12)\" clip-rule=\"nonzero\">\n",
       "<path style=\" stroke:none;fill-rule:nonzero;fill:rgb(100%,94.898987%,0%);fill-opacity:0.126491;\" d=\"M 283.46875 248.03125 L 283.46875 212.597656 L 318.902344 212.597656 L 318.902344 248.03125 Z M 283.46875 248.03125 \"/>\n",
       "</g>\n",
       "<path style=\" stroke:none;fill-rule:nonzero;fill:rgb(100%,94.898987%,0%);fill-opacity:0.118322;\" d=\"M 177.167969 70.863281 L 177.167969 35.429688 L 212.601562 35.429688 L 212.601562 70.863281 Z M 177.167969 70.863281 \"/>\n",
       "<path style=\" stroke:none;fill-rule:nonzero;fill:rgb(100%,94.898987%,0%);fill-opacity:0.104881;\" d=\"M 70.867188 35.429688 L 70.867188 -0.00390625 L 106.300781 -0.00390625 L 106.300781 35.429688 Z M 70.867188 35.429688 \"/>\n",
       "<path style=\" stroke:none;fill-rule:nonzero;fill:rgb(100%,94.898987%,0%);fill-opacity:0.0707107;\" d=\"M 248.035156 141.730469 L 248.035156 106.296875 L 283.46875 106.296875 L 283.46875 141.730469 Z M 248.035156 141.730469 \"/>\n",
       "<path style=\" stroke:none;fill-rule:nonzero;fill:rgb(100%,94.898987%,0%);fill-opacity:0.122474;\" d=\"M 283.46875 177.164062 L 283.46875 141.730469 L 318.902344 141.730469 L 318.902344 177.164062 Z M 283.46875 177.164062 \"/>\n",
       "<path style=\" stroke:none;fill-rule:nonzero;fill:rgb(100%,94.898987%,0%);fill-opacity:0.1;\" d=\"M 177.167969 35.429688 L 177.167969 -0.00390625 L 212.601562 -0.00390625 L 212.601562 35.429688 Z M 177.167969 35.429688 \"/>\n",
       "<path style=\" stroke:none;fill-rule:nonzero;fill:rgb(100%,94.898987%,0%);fill-opacity:0.151658;\" d=\"M 35.433594 177.164062 L 35.433594 141.730469 L 70.867188 141.730469 L 70.867188 177.164062 Z M 35.433594 177.164062 \"/>\n",
       "<path style=\" stroke:none;fill-rule:nonzero;fill:rgb(100%,94.898987%,0%);fill-opacity:0.0774597;\" d=\"M 177.167969 141.730469 L 177.167969 106.296875 L 212.601562 106.296875 L 212.601562 141.730469 Z M 177.167969 141.730469 \"/>\n",
       "<path style=\" stroke:none;fill-rule:nonzero;fill:rgb(100%,94.898987%,0%);fill-opacity:0.109545;\" d=\"M 318.902344 177.164062 L 318.902344 141.730469 L 354.335938 141.730469 L 354.335938 177.164062 Z M 318.902344 177.164062 \"/>\n",
       "<path style=\" stroke:none;fill-rule:nonzero;fill:rgb(100%,94.898987%,0%);fill-opacity:0.109545;\" d=\"M 318.902344 70.863281 L 318.902344 35.429688 L 354.335938 35.429688 L 354.335938 70.863281 Z M 318.902344 70.863281 \"/>\n",
       "<g clip-path=\"url(#clip-1495312568602737-13)\" clip-rule=\"nonzero\">\n",
       "<path style=\" stroke:none;fill-rule:nonzero;fill:rgb(100%,94.898987%,0%);fill-opacity:0.144914;\" d=\"M 0 248.03125 L 0 212.597656 L 35.433594 212.597656 L 35.433594 248.03125 Z M 0 248.03125 \"/>\n",
       "</g>\n",
       "<path style=\" stroke:none;fill-rule:nonzero;fill:rgb(100%,94.898987%,0%);fill-opacity:0.114018;\" d=\"M 70.867188 177.164062 L 70.867188 141.730469 L 106.300781 141.730469 L 106.300781 177.164062 Z M 70.867188 177.164062 \"/>\n",
       "<g clip-path=\"url(#clip-1495312568602737-14)\" clip-rule=\"nonzero\">\n",
       "<path style=\" stroke:none;fill-rule:nonzero;fill:rgb(100%,94.898987%,0%);fill-opacity:0.144914;\" d=\"M 248.035156 248.03125 L 248.035156 212.597656 L 283.46875 212.597656 L 283.46875 248.03125 Z M 248.035156 248.03125 \"/>\n",
       "</g>\n",
       "<path style=\" stroke:none;fill-rule:nonzero;fill:rgb(100%,94.898987%,0%);fill-opacity:0.148324;\" d=\"M 318.902344 141.730469 L 318.902344 106.296875 L 354.335938 106.296875 L 354.335938 141.730469 Z M 318.902344 141.730469 \"/>\n",
       "<path style=\" stroke:none;fill-rule:nonzero;fill:rgb(100%,94.898987%,0%);fill-opacity:0.118322;\" d=\"M 70.867188 106.296875 L 70.867188 70.863281 L 106.300781 70.863281 L 106.300781 106.296875 Z M 70.867188 106.296875 \"/>\n",
       "<g clip-path=\"url(#clip-1495312568602737-15)\" clip-rule=\"nonzero\">\n",
       "<path style=\" stroke:none;fill-rule:nonzero;fill:rgb(100%,94.898987%,0%);fill-opacity:0.141421;\" d=\"M 212.601562 248.03125 L 212.601562 212.597656 L 248.035156 212.597656 L 248.035156 248.03125 Z M 212.601562 248.03125 \"/>\n",
       "</g>\n",
       "<g clip-path=\"url(#clip-1495312568602737-16)\" clip-rule=\"nonzero\">\n",
       "<path style=\" stroke:none;fill-rule:nonzero;fill:rgb(100%,94.898987%,0%);fill-opacity:0.114018;\" d=\"M 354.335938 177.164062 L 354.335938 141.730469 L 389.769531 141.730469 L 389.769531 177.164062 Z M 354.335938 177.164062 \"/>\n",
       "</g>\n",
       "<path style=\" stroke:none;fill-rule:nonzero;fill:rgb(100%,94.898987%,0%);fill-opacity:0.114018;\" d=\"M 283.46875 70.863281 L 283.46875 35.429688 L 318.902344 35.429688 L 318.902344 70.863281 Z M 283.46875 70.863281 \"/>\n",
       "<path style=\" stroke:none;fill-rule:nonzero;fill:rgb(100%,94.898987%,0%);fill-opacity:0.118322;\" d=\"M 106.300781 106.296875 L 106.300781 70.863281 L 141.734375 70.863281 L 141.734375 106.296875 Z M 106.300781 106.296875 \"/>\n",
       "<path style=\" stroke:none;fill-rule:nonzero;fill:rgb(100%,94.898987%,0%);fill-opacity:0.0948683;\" d=\"M 141.734375 141.730469 L 141.734375 106.296875 L 177.167969 106.296875 L 177.167969 141.730469 Z M 141.734375 141.730469 \"/>\n",
       "<path style=\" stroke:none;fill-rule:nonzero;fill:rgb(100%,94.898987%,0%);fill-opacity:0.118322;\" d=\"M 0 212.597656 L 0 177.164062 L 35.433594 177.164062 L 35.433594 212.597656 Z M 0 212.597656 \"/>\n",
       "<path style=\" stroke:none;fill-rule:nonzero;fill:rgb(100%,94.898987%,0%);fill-opacity:0.118322;\" d=\"M 212.601562 35.429688 L 212.601562 -0.00390625 L 248.035156 -0.00390625 L 248.035156 35.429688 Z M 212.601562 35.429688 \"/>\n",
       "<g clip-path=\"url(#clip-1495312568602737-17)\" clip-rule=\"nonzero\">\n",
       "<path style=\" stroke:none;fill-rule:nonzero;fill:rgb(100%,94.898987%,0%);fill-opacity:0.109545;\" d=\"M 106.300781 248.03125 L 106.300781 212.597656 L 141.734375 212.597656 L 141.734375 248.03125 Z M 106.300781 248.03125 \"/>\n",
       "</g>\n",
       "<path style=\" stroke:none;fill-rule:nonzero;fill:rgb(100%,94.898987%,0%);fill-opacity:0.109545;\" d=\"M 248.035156 35.429688 L 248.035156 -0.00390625 L 283.46875 -0.00390625 L 283.46875 35.429688 Z M 248.035156 35.429688 \"/>\n",
       "<path style=\" stroke:none;fill-rule:nonzero;fill:rgb(100%,94.898987%,0%);fill-opacity:0.122474;\" d=\"M 248.035156 106.296875 L 248.035156 70.863281 L 283.46875 70.863281 L 283.46875 106.296875 Z M 248.035156 106.296875 \"/>\n",
       "<path style=\" stroke:none;fill-rule:nonzero;fill:rgb(100%,94.898987%,0%);fill-opacity:0.104881;\" d=\"M 141.734375 35.429688 L 141.734375 -0.00390625 L 177.167969 -0.00390625 L 177.167969 35.429688 Z M 141.734375 35.429688 \"/>\n",
       "<path style=\" stroke:none;fill-rule:nonzero;fill:rgb(100%,94.898987%,0%);fill-opacity:0.130384;\" d=\"M 177.167969 212.597656 L 177.167969 177.164062 L 212.601562 177.164062 L 212.601562 212.597656 Z M 177.167969 212.597656 \"/>\n",
       "<g clip-path=\"url(#clip-1495312568602737-18)\" clip-rule=\"nonzero\">\n",
       "<path style=\" stroke:none;fill-rule:nonzero;fill:rgb(100%,94.898987%,0%);fill-opacity:0.130384;\" d=\"M 354.335938 141.730469 L 354.335938 106.296875 L 389.769531 106.296875 L 389.769531 141.730469 Z M 354.335938 141.730469 \"/>\n",
       "</g>\n",
       "<g clip-path=\"url(#clip-1495312568602737-19)\" clip-rule=\"nonzero\">\n",
       "<path style=\" stroke:none;fill-rule:nonzero;fill:rgb(100%,94.898987%,0%);fill-opacity:0.114018;\" d=\"M 354.335938 212.597656 L 354.335938 177.164062 L 389.769531 177.164062 L 389.769531 212.597656 Z M 354.335938 212.597656 \"/>\n",
       "</g>\n",
       "<path style=\" stroke:none;fill-rule:nonzero;fill:rgb(100%,94.898987%,0%);fill-opacity:0.109545;\" d=\"M 177.167969 106.296875 L 177.167969 70.863281 L 212.601562 70.863281 L 212.601562 106.296875 Z M 177.167969 106.296875 \"/>\n",
       "<path style=\" stroke:none;fill-rule:nonzero;fill:rgb(100%,94.898987%,0%);fill-opacity:0.126491;\" d=\"M 70.867188 70.863281 L 70.867188 35.429688 L 106.300781 35.429688 L 106.300781 70.863281 Z M 70.867188 70.863281 \"/>\n",
       "<path style=\" stroke:none;fill-rule:nonzero;fill:rgb(100%,94.898987%,0%);fill-opacity:0.104881;\" d=\"M 177.167969 177.164062 L 177.167969 141.730469 L 212.601562 141.730469 L 212.601562 177.164062 Z M 177.167969 177.164062 \"/>\n",
       "<path style=\" stroke:none;fill-rule:nonzero;fill:rgb(100%,94.898987%,0%);fill-opacity:0.1;\" d=\"M 106.300781 35.429688 L 106.300781 -0.00390625 L 141.734375 -0.00390625 L 141.734375 35.429688 Z M 106.300781 35.429688 \"/>\n",
       "<path style=\" stroke:none;fill-rule:nonzero;fill:rgb(100%,94.898987%,0%);fill-opacity:0.0894427;\" d=\"M 283.46875 106.296875 L 283.46875 70.863281 L 318.902344 70.863281 L 318.902344 106.296875 Z M 283.46875 106.296875 \"/>\n",
       "<g clip-path=\"url(#clip-1495312568602737-20)\" clip-rule=\"nonzero\">\n",
       "<path style=\" stroke:none;fill-rule:nonzero;fill:rgb(100%,94.898987%,0%);fill-opacity:0.114018;\" d=\"M 354.335938 70.863281 L 354.335938 35.429688 L 389.769531 35.429688 L 389.769531 70.863281 Z M 354.335938 70.863281 \"/>\n",
       "</g>\n",
       "<path style=\" stroke:none;fill-rule:nonzero;fill:rgb(100%,94.898987%,0%);fill-opacity:0.126491;\" d=\"M 0 106.296875 L 0 70.863281 L 35.433594 70.863281 L 35.433594 106.296875 Z M 0 106.296875 \"/>\n",
       "<path style=\" stroke:none;fill-rule:nonzero;fill:rgb(100%,94.898987%,0%);fill-opacity:0.109545;\" d=\"M 318.902344 106.296875 L 318.902344 70.863281 L 354.335938 70.863281 L 354.335938 106.296875 Z M 318.902344 106.296875 \"/>\n",
       "<path style=\" stroke:none;fill-rule:nonzero;fill:rgb(100%,50%,0%);fill-opacity:0.5;\" d=\"M 283.46875 35.429688 L 283.46875 -0.00390625 L 318.902344 -0.00390625 L 318.902344 35.429688 Z M 283.46875 35.429688 \"/>\n",
       "<path style=\" stroke:none;fill-rule:nonzero;fill:rgb(0%,100%,0%);fill-opacity:0.5;\" d=\"M 212.601562 35.429688 L 212.601562 -0.00390625 L 248.035156 -0.00390625 L 248.035156 35.429688 Z M 212.601562 35.429688 \"/>\n",
       "<path style=\"fill:none;stroke-width:0.3985;stroke-linecap:butt;stroke-linejoin:miter;stroke:rgb(0%,0%,0%);stroke-opacity:1;stroke-miterlimit:10;\" d=\"M 0 -0.00025 L 389.769531 -0.00025 M 0 35.433344 L 389.769531 35.433344 M 0 70.866938 L 389.769531 70.866938 M 0 106.300531 L 389.769531 106.300531 M 0 141.734125 L 389.769531 141.734125 M 0 177.167719 L 389.769531 177.167719 M 0 212.601313 L 389.769531 212.601313 M 0 248.023188 L 389.769531 248.023188 M 0 -0.00025 L 0 248.034906 M 35.433594 -0.00025 L 35.433594 248.034906 M 70.867188 -0.00025 L 70.867188 248.034906 M 106.300781 -0.00025 L 106.300781 248.034906 M 141.734375 -0.00025 L 141.734375 248.034906 M 177.167969 -0.00025 L 177.167969 248.034906 M 212.601562 -0.00025 L 212.601562 248.034906 M 248.035156 -0.00025 L 248.035156 248.034906 M 283.46875 -0.00025 L 283.46875 248.034906 M 318.902344 -0.00025 L 318.902344 248.034906 M 354.335938 -0.00025 L 354.335938 248.034906 M 389.757812 -0.00025 L 389.757812 248.034906 \" transform=\"matrix(1,0,0,-1,0,248.031)\"/>\n",
       "</g>\n",
       "</svg>\n",
       "\n"
      ],
      "text/plain": [
       "LaserTag.LaserTagVis(LaserTag.LaserTagPOMDP{StaticArrays.MVector{8,Float64}}\n",
       "  tag_reward: Float64 10.0\n",
       "  step_cost: Float64 1.0\n",
       "  discount: Float64 0.95\n",
       "  floor: LaserTag.Floor\n",
       "  reading_std: Float64 2.5\n",
       "  obstacles: Set{StaticArrays.SVector{2,Int64}}\n",
       "  robot_init: StaticArrays.SVector{2,Int64}\n",
       "  dcache: LaserTag.LTDistanceCache\n",
       "  cdf: Nullable{LaserTag.ReadingCDF}\n",
       ",Nullable{Any}(LaserTag.LTState([7,7],[9,7],false)),Nullable{Any}(),Nullable{Any}(),Nullable{Any}(ParticleFilters.ParticleCollection{LaserTag.LTState}(LaserTag.LTState[LaserTag.LTState([7,7],[11,3],false),LaserTag.LTState([7,7],[5,7],false),LaserTag.LTState([7,7],[1,3],false),LaserTag.LTState([7,7],[7,6],false),LaserTag.LTState([7,7],[6,2],false),LaserTag.LTState([7,7],[3,2],false),LaserTag.LTState([7,7],[11,5],false),LaserTag.LTState([7,7],[3,2],false),LaserTag.LTState([7,7],[5,6],false),LaserTag.LTState([7,7],[8,5],false)  …  LaserTag.LTState([7,7],[9,3],false),LaserTag.LTState([7,7],[9,1],false),LaserTag.LTState([7,7],[2,2],false),LaserTag.LTState([7,7],[10,7],false),LaserTag.LTState([7,7],[2,7],false),LaserTag.LTState([7,7],[10,6],false),LaserTag.LTState([7,7],[4,5],false),LaserTag.LTState([7,7],[10,1],false),LaserTag.LTState([7,7],[5,6],false),LaserTag.LTState([7,7],[4,5],false)],#NULL)),Nullable{Any}())"
      ]
     },
     "execution_count": 2,
     "metadata": {},
     "output_type": "execute_result"
    }
   ],
   "source": [
    "p = gen_lasertag()\n",
    "filter = SIRParticleFilter(p, 1000)\n",
    "b = initialize_belief(filter, initial_state_distribution(p))\n",
    "LaserTagVis(p, s=initial_state(p, Base.GLOBAL_RNG), b=b)"
   ]
  },
  {
   "cell_type": "code",
   "execution_count": 3,
   "metadata": {
    "collapsed": false
   },
   "outputs": [
    {
     "data": {
      "text/plain": [
       "49"
      ]
     },
     "execution_count": 3,
     "metadata": {},
     "output_type": "execute_result"
    }
   ],
   "source": [
    "p = gen_lasertag(rng=MersenneTwister(1), reading_std=2.5)\n",
    "filter = SIRParticleFilter(p, 10000)\n",
    "policy = RandomPolicy(p, rng=MersenneTwister(2))\n",
    "hr = HistoryRecorder(max_steps=50, rng=MersenneTwister(3))\n",
    "hist = simulate(hr, p, policy, filter)\n",
    "ns = n_steps(hist)-1\n",
    "#=\n",
    "@manipulate for i in 1:ns\n",
    "    s = state_hist(hist)[i+1]\n",
    "    o = observation_hist(hist)[i]\n",
    "    a = action_hist(hist)[i+1]\n",
    "    b = belief_hist(hist)[i+1]\n",
    "    LaserTagVis(p, s=s, a=a, o=o, b=b)\n",
    "end\n",
    "=#"
   ]
  },
  {
   "cell_type": "code",
   "execution_count": 4,
   "metadata": {
    "collapsed": false
   },
   "outputs": [
    {
     "data": {
      "text/plain": [
       "0"
      ]
     },
     "execution_count": 4,
     "metadata": {},
     "output_type": "execute_result"
    }
   ],
   "source": [
    "i=0"
   ]
  },
  {
   "cell_type": "code",
   "execution_count": 7,
   "metadata": {
    "collapsed": false
   },
   "outputs": [
    {
     "ename": "LoadError",
     "evalue": "BoundsError: attempt to access 50-element Array{Int64,1} at index [51]",
     "output_type": "error",
     "traceback": [
      "BoundsError: attempt to access 50-element Array{Int64,1} at index [51]",
      "",
      " in getindex(::Array{Int64,1}, ::Int64) at ./array.jl:386"
     ]
    }
   ],
   "source": [
    "i+=1\n",
    "s = state_hist(hist)[i+1]\n",
    "o = observation_hist(hist)[i]\n",
    "a = action_hist(hist)[i+1]\n",
    "b = belief_hist(hist)[i+1]\n",
    "r = reward_hist(hist)[i+1]\n",
    "LaserTagVis(p, s=s, a=a, o=o, b=b, r=r)"
   ]
  },
  {
   "cell_type": "code",
   "execution_count": 6,
   "metadata": {
    "collapsed": false
   },
   "outputs": [
    {
     "name": "stdout",
     "output_type": "stream",
     "text": [
      "................................................."
     ]
    },
    {
     "data": {
      "text/plain": [
       "\"/tmp/lasertag.gif\""
      ]
     },
     "execution_count": 6,
     "metadata": {},
     "output_type": "execute_result"
    }
   ],
   "source": [
    "using Reel\n",
    "frames = Frames(MIME(\"image/png\"), fps=2)\n",
    "for i in 1:ns\n",
    "    s = state_hist(hist)[i+1]\n",
    "    o = observation_hist(hist)[i]\n",
    "    a = action_hist(hist)[i+1]\n",
    "    b = belief_hist(hist)[i+1]\n",
    "    r = reward_hist(hist)[i+1]\n",
    "    push!(frames, LaserTagVis(p, s=s, a=a, o=o, b=b, r=r))\n",
    "    print(\".\")\n",
    "end\n",
    "\n",
    "write(\"/tmp/lasertag.gif\", frames)"
   ]
  },
  {
   "cell_type": "code",
   "execution_count": null,
   "metadata": {
    "collapsed": true
   },
   "outputs": [],
   "source": []
  }
 ],
 "metadata": {
  "anaconda-cloud": {},
  "kernelspec": {
   "display_name": "Julia 0.5.1",
   "language": "julia",
   "name": "julia-0.5"
  },
  "language_info": {
   "file_extension": ".jl",
   "mimetype": "application/julia",
   "name": "julia",
   "version": "0.5.1"
  }
 },
 "nbformat": 4,
 "nbformat_minor": 1
}
